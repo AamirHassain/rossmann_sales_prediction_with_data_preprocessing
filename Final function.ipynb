{
 "cells": [
  {
   "cell_type": "code",
   "execution_count": 2,
   "metadata": {
    "ExecuteTime": {
     "end_time": "2021-03-04T08:57:46.119950Z",
     "start_time": "2021-03-04T08:57:46.115951Z"
    },
    "executionInfo": {
     "elapsed": 1316,
     "status": "ok",
     "timestamp": 1603711104624,
     "user": {
      "displayName": "Keshav Rawat",
      "photoUrl": "",
      "userId": "03689035657281189234"
     },
     "user_tz": -330
    },
    "id": "EnZg3eoVi7fJ"
   },
   "outputs": [],
   "source": [
    "import pickle\n",
    "import numpy as np\n",
    "import pandas as pd\n",
    "import json\n",
    "import joblib\n",
    "import time\n",
    "import warnings\n",
    "warnings.filterwarnings('ignore')"
   ]
  },
  {
   "cell_type": "code",
   "execution_count": 3,
   "metadata": {
    "ExecuteTime": {
     "end_time": "2021-03-04T08:57:51.597785Z",
     "start_time": "2021-03-04T08:57:49.400226Z"
    },
    "executionInfo": {
     "elapsed": 10674,
     "status": "ok",
     "timestamp": 1603711113995,
     "user": {
      "displayName": "Keshav Rawat",
      "photoUrl": "",
      "userId": "03689035657281189234"
     },
     "user_tz": -330
    },
    "id": "HSCv8XCDNR0a"
   },
   "outputs": [],
   "source": [
    "seed = 21 #Setting seed.\n",
    "\n",
    "df_train = pd.read_csv('./train.csv', parse_dates=['Date'],\n",
    "                       date_parser=(lambda dt: pd.to_datetime(dt, format='%d/%m/%Y')))\n",
    "\n",
    "df_submit = pd.read_csv('./test.csv', parse_dates=['Date'],\n",
    "                       date_parser=(lambda dt: pd.to_datetime(dt, format='%d/%m/%Y')))\n",
    "\n",
    "df_store = pd.read_csv('./store.csv')\n",
    "\n",
    "df_store_states = pd.read_csv('./store_states.csv')"
   ]
  },
  {
   "cell_type": "code",
   "execution_count": 4,
   "metadata": {
    "ExecuteTime": {
     "end_time": "2021-03-04T08:57:55.454508Z",
     "start_time": "2021-03-04T08:57:55.381554Z"
    },
    "colab": {
     "base_uri": "https://localhost:8080/",
     "height": 204
    },
    "executionInfo": {
     "elapsed": 1032,
     "status": "ok",
     "timestamp": 1603711119859,
     "user": {
      "displayName": "Keshav Rawat",
      "photoUrl": "",
      "userId": "03689035657281189234"
     },
     "user_tz": -330
    },
    "id": "mzAH5QWsoYKE",
    "outputId": "68f72609-3f27-43f7-ade5-8238885601eb"
   },
   "outputs": [
    {
     "data": {
      "text/html": [
       "<div>\n",
       "<style scoped>\n",
       "    .dataframe tbody tr th:only-of-type {\n",
       "        vertical-align: middle;\n",
       "    }\n",
       "\n",
       "    .dataframe tbody tr th {\n",
       "        vertical-align: top;\n",
       "    }\n",
       "\n",
       "    .dataframe thead th {\n",
       "        text-align: right;\n",
       "    }\n",
       "</style>\n",
       "<table border=\"1\" class=\"dataframe\">\n",
       "  <thead>\n",
       "    <tr style=\"text-align: right;\">\n",
       "      <th></th>\n",
       "      <th>Store</th>\n",
       "      <th>State</th>\n",
       "    </tr>\n",
       "  </thead>\n",
       "  <tbody>\n",
       "    <tr>\n",
       "      <th>0</th>\n",
       "      <td>1</td>\n",
       "      <td>HE</td>\n",
       "    </tr>\n",
       "    <tr>\n",
       "      <th>1</th>\n",
       "      <td>2</td>\n",
       "      <td>TH</td>\n",
       "    </tr>\n",
       "    <tr>\n",
       "      <th>2</th>\n",
       "      <td>3</td>\n",
       "      <td>NW</td>\n",
       "    </tr>\n",
       "    <tr>\n",
       "      <th>3</th>\n",
       "      <td>4</td>\n",
       "      <td>BE</td>\n",
       "    </tr>\n",
       "    <tr>\n",
       "      <th>4</th>\n",
       "      <td>5</td>\n",
       "      <td>SN</td>\n",
       "    </tr>\n",
       "  </tbody>\n",
       "</table>\n",
       "</div>"
      ],
      "text/plain": [
       "   Store State\n",
       "0      1    HE\n",
       "1      2    TH\n",
       "2      3    NW\n",
       "3      4    BE\n",
       "4      5    SN"
      ]
     },
     "execution_count": 4,
     "metadata": {},
     "output_type": "execute_result"
    }
   ],
   "source": [
    "df_store_states.head()"
   ]
  },
  {
   "cell_type": "code",
   "execution_count": 5,
   "metadata": {
    "ExecuteTime": {
     "end_time": "2021-03-04T08:58:01.307013Z",
     "start_time": "2021-03-04T08:58:01.257045Z"
    },
    "executionInfo": {
     "elapsed": 1077,
     "status": "ok",
     "timestamp": 1603711235112,
     "user": {
      "displayName": "Keshav Rawat",
      "photoUrl": "",
      "userId": "03689035657281189234"
     },
     "user_tz": -330
    },
    "id": "e6VwdlxTocEi"
   },
   "outputs": [],
   "source": [
    "#Creating a dictionary for assigning state in predict function.\n",
    "store_state_dict = dict()\n",
    "\n",
    "for i in range(len(df_store_states)):\n",
    "    store = df_store_states['Store'].iloc[i]\n",
    "    state = df_store_states['State'].iloc[i]\n",
    "\n",
    "    store_state_dict[store] = state"
   ]
  },
  {
   "cell_type": "code",
   "execution_count": 6,
   "metadata": {
    "ExecuteTime": {
     "end_time": "2021-03-04T08:58:07.152957Z",
     "start_time": "2021-03-04T08:58:06.282147Z"
    },
    "executionInfo": {
     "elapsed": 987,
     "status": "ok",
     "timestamp": 1603711484735,
     "user": {
      "displayName": "Keshav Rawat",
      "photoUrl": "",
      "userId": "03689035657281189234"
     },
     "user_tz": -330
    },
    "id": "47Oyj_bP8LoE"
   },
   "outputs": [],
   "source": [
    "X = pd.merge(df_train, df_store, how='left', on='Store')\n",
    "\n",
    "# X = pd.merge(X, df_store_states, how='left', on='Store')"
   ]
  },
  {
   "cell_type": "code",
   "execution_count": 7,
   "metadata": {
    "ExecuteTime": {
     "end_time": "2021-03-04T08:58:41.228324Z",
     "start_time": "2021-03-04T08:58:13.621416Z"
    },
    "executionInfo": {
     "elapsed": 2087,
     "status": "ok",
     "timestamp": 1603711487773,
     "user": {
      "displayName": "Keshav Rawat",
      "photoUrl": "",
      "userId": "03689035657281189234"
     },
     "user_tz": -330
    },
    "id": "k0vLAU5uiBar"
   },
   "outputs": [],
   "source": [
    "preprocessor = pickle.load(open('./preprocessor_base.pkl','rb'))"
   ]
  },
  {
   "cell_type": "code",
   "execution_count": 9,
   "metadata": {
    "ExecuteTime": {
     "end_time": "2021-03-04T09:04:07.861550Z",
     "start_time": "2021-03-04T09:04:05.572952Z"
    },
    "executionInfo": {
     "elapsed": 3596,
     "status": "ok",
     "timestamp": 1603711489628,
     "user": {
      "displayName": "Keshav Rawat",
      "photoUrl": "",
      "userId": "03689035657281189234"
     },
     "user_tz": -330
    },
    "id": "QFSh-XL0R-cI"
   },
   "outputs": [],
   "source": [
    "model = joblib.load('./lgb_model.pkl')"
   ]
  },
  {
   "cell_type": "code",
   "execution_count": 10,
   "metadata": {
    "ExecuteTime": {
     "end_time": "2021-03-04T09:04:27.097784Z",
     "start_time": "2021-03-04T09:04:26.755025Z"
    },
    "executionInfo": {
     "elapsed": 3870,
     "status": "ok",
     "timestamp": 1603711559017,
     "user": {
      "displayName": "Keshav Rawat",
      "photoUrl": "",
      "userId": "03689035657281189234"
     },
     "user_tz": -330
    },
    "id": "iMAYZgJfNles"
   },
   "outputs": [],
   "source": [
    "sales_per_day_dict = json.load(open('./sales_per_day_dict_no_zeros','r'))\n",
    "customers_per_day_dict = json.load(open('./customers_per_day_dict_no_zeros','r'))\n",
    "sales_per_customers_per_day_dict = json.load(open('./sales_per_customers_per_day_dict_no_zeros','r'))\n",
    "\n",
    "acceleration_dict = json.load(open('./acceleration_dict_no_zeros','rb'))\n",
    "\n",
    "freq2_dict = json.load(open('./freq2_dict_no_zeros','r'))\n",
    "freq3_dict = json.load(open('./freq3_dict_no_zeros','r'))\n",
    "amp2_dict = json.load(open('./amp2_dict_no_zeros','r'))\n",
    "amp3_dict = json.load(open('./amp3_dict_no_zeros','r'))"
   ]
  },
  {
   "cell_type": "code",
   "execution_count": 11,
   "metadata": {
    "ExecuteTime": {
     "end_time": "2021-03-04T09:04:30.270317Z",
     "start_time": "2021-03-04T09:04:30.265316Z"
    },
    "executionInfo": {
     "elapsed": 3699,
     "status": "ok",
     "timestamp": 1603711559022,
     "user": {
      "displayName": "Keshav Rawat",
      "photoUrl": "",
      "userId": "03689035657281189234"
     },
     "user_tz": -330
    },
    "id": "5KU8ujDbKzh1"
   },
   "outputs": [],
   "source": [
    "#defining metric.\n",
    "def rmspe(y, yhat):\n",
    "    rmspe = np.sqrt(np.mean(((y - yhat)/y)**2))\n",
    "    return rmspe"
   ]
  },
  {
   "cell_type": "code",
   "execution_count": 12,
   "metadata": {
    "ExecuteTime": {
     "end_time": "2021-03-04T09:04:33.097956Z",
     "start_time": "2021-03-04T09:04:33.086966Z"
    },
    "id": "Dt0t_zH5Jv1G"
   },
   "outputs": [
    {
     "data": {
      "text/plain": [
       "('Promo_before_days',\n",
       " 'Promo_after_days',\n",
       " 'Frequency_2',\n",
       " 'Frequency_3',\n",
       " 'Amplitude_2',\n",
       " 'Amplitude_3',\n",
       " 'Mean_TemperatureC',\n",
       " 'Events')"
      ]
     },
     "execution_count": 12,
     "metadata": {},
     "output_type": "execute_result"
    }
   ],
   "source": [
    "'Store', 'DayOfWeek', 'Promo','StateHoliday', 'SchoolHoliday','StoreType', 'Assortment', 'CompetitionDistance','CompetitionOpenSinceMonth', \n",
    "'CompetitionOpenSinceYear', 'Promo2', 'Promo2SinceWeek', 'Promo2SinceYear', 'Year','Month', 'Day', 'WeekOfYear', 'DayOfYear','SalesPerDay',\n",
    "'Customers_per_day', 'Sales_Per_Customers_Per_Day', 'PromoInterval0', 'PromoInterval1', 'PromoInterval2', 'PromoInterval3','Acceleration','State',\n",
    "'Promo_before_days','Promo_after_days','Frequency_2', 'Frequency_3', 'Amplitude_2','Amplitude_3','Mean_TemperatureC','Events'"
   ]
  },
  {
   "cell_type": "code",
   "execution_count": 19,
   "metadata": {
    "ExecuteTime": {
     "end_time": "2021-03-04T09:08:21.872300Z",
     "start_time": "2021-03-04T09:08:21.847313Z"
    },
    "executionInfo": {
     "elapsed": 1036,
     "status": "ok",
     "timestamp": 1603712271114,
     "user": {
      "displayName": "Keshav Rawat",
      "photoUrl": "",
      "userId": "03689035657281189234"
     },
     "user_tz": -330
    },
    "id": "B9mAMK_VKRdH"
   },
   "outputs": [],
   "source": [
    "def final_func_1(X):\n",
    "    '''\n",
    "    This function takes raw X as input and returns the predicitons.\n",
    "\n",
    "    All the preprocessing will be done in this function using the pipeline\n",
    "    that we created to preprocess the data.\n",
    "    '''\n",
    "    if X['Open']==1:\n",
    "        global preprocessor\n",
    "        global model\n",
    "        global holidays_dict\n",
    "        global sales_per_day_dict\n",
    "        global customers_per_day_dict\n",
    "        global sales_per_customers_per_day_dict\n",
    "        global acceleration_dict\n",
    "        global freq2_dict\n",
    "        global freq3_dict\n",
    "        global amp2_dict\n",
    "        global amp3_dict\n",
    "        global store_state_dict\n",
    "\n",
    "        X = pd.DataFrame(data=[X.values], columns=X.index)\n",
    "        store = X['Store'][0]\n",
    "\n",
    "        #Adding date features.\n",
    "        X['Date'] = pd.to_datetime(X['Date'])\n",
    "        X['Year'] = X['Date'].dt.year\n",
    "        X['Month'] = X['Date'].dt.month\n",
    "        X['Day'] = X['Date'].dt.day\n",
    "        X['WeekOfYear'] = X['Date'].dt.weekofyear\n",
    "        X['DayOfYear'] = X['Date'].dt.dayofyear\n",
    "\n",
    "        X['SalesPerDay'] = sales_per_day_dict[f'{store}']\n",
    "        X['Customers_per_day'] = customers_per_day_dict[f'{store}']\n",
    "        X['Sales_Per_Customers_Per_Day'] = sales_per_customers_per_day_dict[f'{store}']\n",
    "\n",
    "        #Splitting PromoInterval into parts. For ex: (Jan,March,May) --> (Jan), (March), (May).\n",
    "        s = X['PromoInterval'].str.split(',').apply(pd.Series, 1)\n",
    "        s.columns = ['PromoInterval0', 'PromoInterval1', 'PromoInterval2', 'PromoInterval3']\n",
    "        X = X.join(s)\n",
    "\n",
    "        #Converting Promointerval columns to numerical.\n",
    "        month_to_num_dict = {\n",
    "                            'Jan' : 1,\n",
    "                            'Feb' : 2,\n",
    "                            'Mar' : 3,\n",
    "                            'Apr' : 4,\n",
    "                            'May' : 5,\n",
    "                            'Jun' : 6,\n",
    "                            'Jul' : 7,\n",
    "                            'Aug' : 8,\n",
    "                            'Sept' : 9, \n",
    "                            'Oct' : 10,\n",
    "                            'Nov' : 11,\n",
    "                            'Dec' : 12,\n",
    "                            'nan' : np.nan\n",
    "                            }\n",
    "\n",
    "        X['PromoInterval0'] = X['PromoInterval0'].map(month_to_num_dict)\n",
    "        X['PromoInterval1'] = X['PromoInterval1'].map(month_to_num_dict)\n",
    "        X['PromoInterval2'] = X['PromoInterval2'].map(month_to_num_dict)\n",
    "        X['PromoInterval3'] = X['PromoInterval3'].map(month_to_num_dict)\n",
    "\n",
    "        #Removing PromoInterval feature as no further use now.\n",
    "        del X['PromoInterval']\n",
    "\n",
    "        X['Acceleration'] = acceleration_dict[f'{store}']\n",
    "        X['State'] = store_state_dict[store]\n",
    "\n",
    "        X['Promo_before_days'] = np.nan\n",
    "        X['Promo_after_days'] = np.nan\n",
    "        \n",
    "        X['Frequency_2'] = freq2_dict[f'{store}']\n",
    "        X['Frequency_3'] = freq3_dict[f'{store}']\n",
    "        X['Amplitude_2'] = amp2_dict[f'{store}']\n",
    "        X['Amplitude_3'] = amp3_dict[f'{store}']\n",
    "\n",
    "        if X['Promo2SinceWeek'][0] == np.nan:  \n",
    "            X['Promo2SinceWeek'][0] = -1\n",
    "        \n",
    "        if X['Promo2SinceYear'][0] == np.nan:\n",
    "            X['Promo2SinceYear'][0] = -1\n",
    "\n",
    "        if X['PromoInterval0'][0] == np.nan:\n",
    "            X['PromoInterval0'][0] = -1\n",
    "\n",
    "        state = X['State'][0]\n",
    "#         temp_df = pd.read_csv(f'./weather_data/{state}.csv',\n",
    "#                     sep=';', parse_dates=['Date'],\n",
    "#                         date_parser=(lambda dt: pd.to_datetime(dt, format='%Y-%m-%d')))\n",
    "        \n",
    "        temp_df = pd.read_csv(f'./weather_data/{state}.csv')\n",
    "        temp_df['Date'] = pd.to_datetime(temp_df['Date'])\n",
    "        \n",
    "        X = pd.merge(X, temp_df, how='left', on='Date')\n",
    "\n",
    "        del X['Date']\n",
    "        del X['Open']\n",
    "\n",
    "        X = preprocessor.transform(X)\n",
    "\n",
    "        prediction = model.predict(X)\n",
    "    \n",
    "    else:\n",
    "        prediction = 0\n",
    "\n",
    "    return prediction"
   ]
  },
  {
   "cell_type": "code",
   "execution_count": 20,
   "metadata": {
    "ExecuteTime": {
     "end_time": "2021-03-04T09:08:25.214935Z",
     "start_time": "2021-03-04T09:08:25.190952Z"
    },
    "executionInfo": {
     "elapsed": 1178,
     "status": "ok",
     "timestamp": 1603712376275,
     "user": {
      "displayName": "Keshav Rawat",
      "photoUrl": "",
      "userId": "03689035657281189234"
     },
     "user_tz": -330
    },
    "id": "SclBnEsRKflb"
   },
   "outputs": [],
   "source": [
    "def final_func_2(X:pd.Series, target):\n",
    "    '''\n",
    "    This function takes raw X as input and returns the metric score.\n",
    "\n",
    "    All the preprocessing will be done in this function using the pipeline\n",
    "    that we created to preprocess the data.\n",
    "    '''\n",
    "    if X['Open']==1:\n",
    "        global preprocessor\n",
    "        global model\n",
    "        global holidays_dict\n",
    "        global sales_per_day_dict\n",
    "        global customers_per_day_dict\n",
    "        global sales_per_customers_per_day_dict\n",
    "        global acceleration_dict\n",
    "        global freq2_dict\n",
    "        global freq3_dict\n",
    "        global amp2_dict\n",
    "        global amp3_dict\n",
    "        global store_state_dict\n",
    "\n",
    "        X = pd.DataFrame(data=[X.values], columns=X.index)\n",
    "        store = X['Store'][0]\n",
    "\n",
    "        #Adding date features.\n",
    "        X['Date'] = pd.to_datetime(X['Date'])\n",
    "        X['Year'] = X['Date'].dt.year\n",
    "        X['Month'] = X['Date'].dt.month\n",
    "        X['Day'] = X['Date'].dt.day\n",
    "        X['WeekOfYear'] = X['Date'].dt.weekofyear\n",
    "        X['DayOfYear'] = X['Date'].dt.dayofyear\n",
    "\n",
    "        X['SalesPerDay'] = sales_per_day_dict[f'{store}']\n",
    "        X['Customers_per_day'] = customers_per_day_dict[f'{store}']\n",
    "        X['Sales_Per_Customers_Per_Day'] = sales_per_customers_per_day_dict[f'{store}']\n",
    "\n",
    "        #Splitting PromoInterval into parts. For ex: (Jan,March,May) --> (Jan), (March), (May).\n",
    "        s = X['PromoInterval'].str.split(',').apply(pd.Series, 1)\n",
    "        s.columns = ['PromoInterval0', 'PromoInterval1', 'PromoInterval2', 'PromoInterval3']\n",
    "        X = X.join(s)\n",
    "\n",
    "        #Converting Promointerval columns to numerical.\n",
    "        month_to_num_dict = {\n",
    "                            'Jan' : 1,\n",
    "                            'Feb' : 2,\n",
    "                            'Mar' : 3,\n",
    "                            'Apr' : 4,\n",
    "                            'May' : 5,\n",
    "                            'Jun' : 6,\n",
    "                            'Jul' : 7,\n",
    "                            'Aug' : 8,\n",
    "                            'Sept' : 9, \n",
    "                            'Oct' : 10,\n",
    "                            'Nov' : 11,\n",
    "                            'Dec' : 12,\n",
    "                            'nan' : np.nan\n",
    "                            }\n",
    "\n",
    "        X['PromoInterval0'] = X['PromoInterval0'].map(month_to_num_dict)\n",
    "        X['PromoInterval1'] = X['PromoInterval1'].map(month_to_num_dict)\n",
    "        X['PromoInterval2'] = X['PromoInterval2'].map(month_to_num_dict)\n",
    "        X['PromoInterval3'] = X['PromoInterval3'].map(month_to_num_dict)\n",
    "\n",
    "        #Removing PromoInterval feature as no further use now.\n",
    "        del X['PromoInterval']\n",
    "\n",
    "        X['Acceleration'] = acceleration_dict[f'{store}']\n",
    "        X['State'] = store_state_dict[store]\n",
    "\n",
    "        X['Promo_before_days'] = np.nan\n",
    "        X['Promo_after_days'] = np.nan\n",
    "        \n",
    "        X['Frequency_2'] = freq2_dict[f'{store}']\n",
    "        X['Frequency_3'] = freq3_dict[f'{store}']\n",
    "        X['Amplitude_2'] = amp2_dict[f'{store}']\n",
    "        X['Amplitude_3'] = amp3_dict[f'{store}']\n",
    "\n",
    "        if X['Promo2SinceWeek'][0] == np.nan:  \n",
    "            X['Promo2SinceWeek'][0] = -1\n",
    "        \n",
    "        if X['Promo2SinceYear'][0] == np.nan:\n",
    "            X['Promo2SinceYear'][0] = -1\n",
    "\n",
    "        if X['PromoInterval0'][0] == np.nan:\n",
    "            X['PromoInterval0'][0] = -1\n",
    "\n",
    "        state = X['State'][0]\n",
    "#         temp_df = pd.read_csv(f'./weather_data/{state}.csv',\n",
    "#                     sep=';', parse_dates=['Date'],\n",
    "#                         date_parser=(lambda dt: pd.to_datetime(dt, format='%Y-%m-%d')))\n",
    "\n",
    "        temp_df = pd.read_csv(f'./weather_data/{state}.csv')\n",
    "        temp_df['Date'] = pd.to_datetime(temp_df['Date'])\n",
    "    \n",
    "        X = pd.merge(X, temp_df, how='left', on='Date')\n",
    "\n",
    "        del X['Date']\n",
    "        del X['Open']\n",
    "\n",
    "        X = preprocessor.transform(X)\n",
    "\n",
    "        prediction = model.predict(X)\n",
    "    \n",
    "    else:\n",
    "        prediction = 0\n",
    "\n",
    "    metric = rmspe(target, prediction)\n",
    "\n",
    "    return metric"
   ]
  },
  {
   "cell_type": "code",
   "execution_count": 21,
   "metadata": {
    "ExecuteTime": {
     "end_time": "2021-03-04T09:08:27.977292Z",
     "start_time": "2021-03-04T09:08:27.823386Z"
    },
    "executionInfo": {
     "elapsed": 1417,
     "status": "ok",
     "timestamp": 1603711813976,
     "user": {
      "displayName": "Keshav Rawat",
      "photoUrl": "",
      "userId": "03689035657281189234"
     },
     "user_tz": -330
    },
    "id": "U-e4PLop7kEU"
   },
   "outputs": [],
   "source": [
    "df = X.drop('Sales', axis=1)\n",
    "y = X['Sales']"
   ]
  },
  {
   "cell_type": "code",
   "execution_count": 22,
   "metadata": {
    "ExecuteTime": {
     "end_time": "2021-03-04T09:08:30.090156Z",
     "start_time": "2021-03-04T09:08:30.083160Z"
    },
    "colab": {
     "base_uri": "https://localhost:8080/",
     "height": 119
    },
    "executionInfo": {
     "elapsed": 1156,
     "status": "ok",
     "timestamp": 1603711813979,
     "user": {
      "displayName": "Keshav Rawat",
      "photoUrl": "",
      "userId": "03689035657281189234"
     },
     "user_tz": -330
    },
    "id": "BKfv2YeSnReK",
    "outputId": "7dbedf08-d79a-4930-dc94-34d6973c40cd"
   },
   "outputs": [
    {
     "data": {
      "text/plain": [
       "Index(['Store', 'DayOfWeek', 'Date', 'Customers', 'Open', 'Promo',\n",
       "       'StateHoliday', 'SchoolHoliday', 'StoreType', 'Assortment',\n",
       "       'CompetitionDistance', 'CompetitionOpenSinceMonth',\n",
       "       'CompetitionOpenSinceYear', 'Promo2', 'Promo2SinceWeek',\n",
       "       'Promo2SinceYear', 'PromoInterval'],\n",
       "      dtype='object')"
      ]
     },
     "execution_count": 22,
     "metadata": {},
     "output_type": "execute_result"
    }
   ],
   "source": [
    "df.columns"
   ]
  },
  {
   "cell_type": "code",
   "execution_count": 23,
   "metadata": {
    "ExecuteTime": {
     "end_time": "2021-03-04T09:08:34.625830Z",
     "start_time": "2021-03-04T09:08:34.620831Z"
    },
    "executionInfo": {
     "elapsed": 1461,
     "status": "ok",
     "timestamp": 1603712399171,
     "user": {
      "displayName": "Keshav Rawat",
      "photoUrl": "",
      "userId": "03689035657281189234"
     },
     "user_tz": -330
    },
    "id": "rNDI1axmC-hG"
   },
   "outputs": [],
   "source": [
    "a = df.iloc[1]\n",
    "a_target = y[1]"
   ]
  },
  {
   "cell_type": "code",
   "execution_count": 24,
   "metadata": {
    "ExecuteTime": {
     "end_time": "2021-03-04T09:08:38.361294Z",
     "start_time": "2021-03-04T09:08:38.218181Z"
    },
    "colab": {
     "base_uri": "https://localhost:8080/",
     "height": 51
    },
    "executionInfo": {
     "elapsed": 1285,
     "status": "ok",
     "timestamp": 1603712447749,
     "user": {
      "displayName": "Keshav Rawat",
      "photoUrl": "",
      "userId": "03689035657281189234"
     },
     "user_tz": -330
    },
    "id": "pbt31UGum7WZ",
    "outputId": "9b160a48-b8ef-4628-e8d3-0e9c3731c730"
   },
   "outputs": [
    {
     "ename": "ValueError",
     "evalue": "Number of features of the model must match the input. Model n_features_ is 84 and input n_features is 43 ",
     "output_type": "error",
     "traceback": [
      "\u001b[1;31m---------------------------------------------------------------------------\u001b[0m",
      "\u001b[1;31mValueError\u001b[0m                                Traceback (most recent call last)",
      "\u001b[1;32m<ipython-input-24-5132569f8303>\u001b[0m in \u001b[0;36m<module>\u001b[1;34m\u001b[0m\n\u001b[0;32m      1\u001b[0m \u001b[1;31m#Preidicting on train data.\u001b[0m\u001b[1;33m\u001b[0m\u001b[1;33m\u001b[0m\u001b[1;33m\u001b[0m\u001b[0m\n\u001b[0;32m      2\u001b[0m \u001b[0mstart\u001b[0m \u001b[1;33m=\u001b[0m \u001b[0mtime\u001b[0m\u001b[1;33m.\u001b[0m\u001b[0mtime\u001b[0m\u001b[1;33m(\u001b[0m\u001b[1;33m)\u001b[0m\u001b[1;33m\u001b[0m\u001b[1;33m\u001b[0m\u001b[0m\n\u001b[1;32m----> 3\u001b[1;33m \u001b[0mprint\u001b[0m\u001b[1;33m(\u001b[0m\u001b[1;34mf'Predict is {final_func_1(a)}'\u001b[0m\u001b[1;33m)\u001b[0m\u001b[1;33m\u001b[0m\u001b[1;33m\u001b[0m\u001b[0m\n\u001b[0m\u001b[0;32m      4\u001b[0m \u001b[0mprint\u001b[0m\u001b[1;33m(\u001b[0m\u001b[1;34mf'Time taken is {time.time()-start} seconds.'\u001b[0m\u001b[1;33m)\u001b[0m\u001b[1;33m\u001b[0m\u001b[1;33m\u001b[0m\u001b[0m\n",
      "\u001b[1;32m<ipython-input-19-dc0039844dd8>\u001b[0m in \u001b[0;36mfinal_func_1\u001b[1;34m(X)\u001b[0m\n\u001b[0;32m    100\u001b[0m         \u001b[0mX\u001b[0m \u001b[1;33m=\u001b[0m \u001b[0mpreprocessor\u001b[0m\u001b[1;33m.\u001b[0m\u001b[0mtransform\u001b[0m\u001b[1;33m(\u001b[0m\u001b[0mX\u001b[0m\u001b[1;33m)\u001b[0m\u001b[1;33m\u001b[0m\u001b[1;33m\u001b[0m\u001b[0m\n\u001b[0;32m    101\u001b[0m \u001b[1;33m\u001b[0m\u001b[0m\n\u001b[1;32m--> 102\u001b[1;33m         \u001b[0mprediction\u001b[0m \u001b[1;33m=\u001b[0m \u001b[0mmodel\u001b[0m\u001b[1;33m.\u001b[0m\u001b[0mpredict\u001b[0m\u001b[1;33m(\u001b[0m\u001b[0mX\u001b[0m\u001b[1;33m)\u001b[0m\u001b[1;33m\u001b[0m\u001b[1;33m\u001b[0m\u001b[0m\n\u001b[0m\u001b[0;32m    103\u001b[0m \u001b[1;33m\u001b[0m\u001b[0m\n\u001b[0;32m    104\u001b[0m     \u001b[1;32melse\u001b[0m\u001b[1;33m:\u001b[0m\u001b[1;33m\u001b[0m\u001b[1;33m\u001b[0m\u001b[0m\n",
      "\u001b[1;32mC:\\System\\Study\\UoM\\Projects\\conda_environments\\stats_and_ml\\env\\lib\\site-packages\\lightgbm\\sklearn.py\u001b[0m in \u001b[0;36mpredict\u001b[1;34m(self, X, raw_score, start_iteration, num_iteration, pred_leaf, pred_contrib, **kwargs)\u001b[0m\n\u001b[0;32m    681\u001b[0m         \u001b[0mn_features\u001b[0m \u001b[1;33m=\u001b[0m \u001b[0mX\u001b[0m\u001b[1;33m.\u001b[0m\u001b[0mshape\u001b[0m\u001b[1;33m[\u001b[0m\u001b[1;36m1\u001b[0m\u001b[1;33m]\u001b[0m\u001b[1;33m\u001b[0m\u001b[1;33m\u001b[0m\u001b[0m\n\u001b[0;32m    682\u001b[0m         \u001b[1;32mif\u001b[0m \u001b[0mself\u001b[0m\u001b[1;33m.\u001b[0m\u001b[0m_n_features\u001b[0m \u001b[1;33m!=\u001b[0m \u001b[0mn_features\u001b[0m\u001b[1;33m:\u001b[0m\u001b[1;33m\u001b[0m\u001b[1;33m\u001b[0m\u001b[0m\n\u001b[1;32m--> 683\u001b[1;33m             raise ValueError(\"Number of features of the model must \"\n\u001b[0m\u001b[0;32m    684\u001b[0m                              \u001b[1;34m\"match the input. Model n_features_ is %s and \"\u001b[0m\u001b[1;33m\u001b[0m\u001b[1;33m\u001b[0m\u001b[0m\n\u001b[0;32m    685\u001b[0m                              \u001b[1;34m\"input n_features is %s \"\u001b[0m\u001b[1;33m\u001b[0m\u001b[1;33m\u001b[0m\u001b[0m\n",
      "\u001b[1;31mValueError\u001b[0m: Number of features of the model must match the input. Model n_features_ is 84 and input n_features is 43 "
     ]
    }
   ],
   "source": [
    "#Preidicting on train data.\n",
    "start = time.time()\n",
    "print(f'Predict is {final_func_1(a)}')\n",
    "print(f'Time taken is {time.time()-start} seconds.')"
   ]
  },
  {
   "cell_type": "code",
   "execution_count": 56,
   "metadata": {
    "colab": {
     "base_uri": "https://localhost:8080/",
     "height": 51
    },
    "executionInfo": {
     "elapsed": 1091,
     "status": "ok",
     "timestamp": 1603712425218,
     "user": {
      "displayName": "Keshav Rawat",
      "photoUrl": "",
      "userId": "03689035657281189234"
     },
     "user_tz": -330
    },
    "id": "GRfCIlmtdput",
    "outputId": "fc9430a3-9469-466a-db5a-681c0c891c46"
   },
   "outputs": [
    {
     "name": "stdout",
     "output_type": "stream",
     "text": [
      "RMSPE score is 0.023445893426296032\n",
      "Time taken is 0.05997133255004883 seconds.\n"
     ]
    }
   ],
   "source": [
    "#Metric on train data.\n",
    "start = time.time()\n",
    "print(f'RMSPE score is {final_func_2(a, a_target)}')\n",
    "print(f'Time taken is {time.time() - start} seconds.')"
   ]
  },
  {
   "cell_type": "code",
   "execution_count": 51,
   "metadata": {
    "executionInfo": {
     "elapsed": 1195,
     "status": "ok",
     "timestamp": 1603712387728,
     "user": {
      "displayName": "Keshav Rawat",
      "photoUrl": "",
      "userId": "03689035657281189234"
     },
     "user_tz": -330
    },
    "id": "ny6z270Mdpsk"
   },
   "outputs": [],
   "source": [
    "d_submit = pd.merge(df_submit, df_store, how='left', on='Store')\n",
    "d_submit.drop('Id', axis=1, inplace=True)"
   ]
  },
  {
   "cell_type": "code",
   "execution_count": 52,
   "metadata": {
    "colab": {
     "base_uri": "https://localhost:8080/",
     "height": 51
    },
    "executionInfo": {
     "elapsed": 1204,
     "status": "ok",
     "timestamp": 1603712388077,
     "user": {
      "displayName": "Keshav Rawat",
      "photoUrl": "",
      "userId": "03689035657281189234"
     },
     "user_tz": -330
    },
    "id": "izM1CnHOdpra",
    "outputId": "64b998ac-e3d5-4d5c-fbec-3acc8cdb8aa1"
   },
   "outputs": [
    {
     "name": "stdout",
     "output_type": "stream",
     "text": [
      "[7333.20625737]\n",
      "Time taken is 0.5567615032196045 seconds.\n"
     ]
    }
   ],
   "source": [
    "#Predicting on test data.\n",
    "start = time.time()\n",
    "print(final_func_1(d_submit.iloc[1]))\n",
    "print(f'Time taken is {time.time()-start} seconds.')"
   ]
  },
  {
   "cell_type": "code",
   "execution_count": null,
   "metadata": {
    "id": "I2mQ5PNNdpqD"
   },
   "outputs": [],
   "source": []
  },
  {
   "cell_type": "code",
   "execution_count": null,
   "metadata": {
    "id": "sBGPMJ58dpnq"
   },
   "outputs": [],
   "source": []
  }
 ],
 "metadata": {
  "colab": {
   "authorship_tag": "ABX9TyNWAvxeSwvzL2JEZ6J9wmbr",
   "collapsed_sections": [],
   "mount_file_id": "1LmBrSb6aR1MzTzdA5SwqcYmTVQnAU2B6",
   "name": "Final function.ipynb",
   "provenance": []
  },
  "kernelspec": {
   "display_name": "Python 3",
   "language": "python",
   "name": "python3"
  },
  "language_info": {
   "codemirror_mode": {
    "name": "ipython",
    "version": 3
   },
   "file_extension": ".py",
   "mimetype": "text/x-python",
   "name": "python",
   "nbconvert_exporter": "python",
   "pygments_lexer": "ipython3",
   "version": "3.8.5"
  },
  "toc": {
   "base_numbering": 1,
   "nav_menu": {},
   "number_sections": true,
   "sideBar": true,
   "skip_h1_title": false,
   "title_cell": "Table of Contents",
   "title_sidebar": "Contents",
   "toc_cell": false,
   "toc_position": {},
   "toc_section_display": true,
   "toc_window_display": false
  },
  "varInspector": {
   "cols": {
    "lenName": 16,
    "lenType": 16,
    "lenVar": 40
   },
   "kernels_config": {
    "python": {
     "delete_cmd_postfix": "",
     "delete_cmd_prefix": "del ",
     "library": "var_list.py",
     "varRefreshCmd": "print(var_dic_list())"
    },
    "r": {
     "delete_cmd_postfix": ") ",
     "delete_cmd_prefix": "rm(",
     "library": "var_list.r",
     "varRefreshCmd": "cat(var_dic_list()) "
    }
   },
   "types_to_exclude": [
    "module",
    "function",
    "builtin_function_or_method",
    "instance",
    "_Feature"
   ],
   "window_display": false
  }
 },
 "nbformat": 4,
 "nbformat_minor": 1
}
