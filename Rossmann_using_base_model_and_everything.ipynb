{
 "cells": [
  {
   "cell_type": "code",
   "execution_count": 137,
   "metadata": {
    "ExecuteTime": {
     "end_time": "2021-03-04T11:51:38.196166Z",
     "start_time": "2021-03-04T11:51:10.320411Z"
    },
    "id": "TP_BjZ6Q6fN5"
   },
   "outputs": [
    {
     "name": "stdout",
     "output_type": "stream",
     "text": [
      "Requirement already satisfied: xgboost in c:\\system\\study\\uom\\projects\\conda_environments\\stats_and_ml\\env\\lib\\site-packages (1.3.3)Note: you may need to restart the kernel to use updated packages.\n",
      "\n",
      "Requirement already satisfied: numpy in c:\\system\\study\\uom\\projects\\conda_environments\\stats_and_ml\\env\\lib\\site-packages (from xgboost) (1.19.2)\n",
      "Requirement already satisfied: scipy in c:\\system\\study\\uom\\projects\\conda_environments\\stats_and_ml\\env\\lib\\site-packages (from xgboost) (1.5.2)\n",
      "Requirement already satisfied: lightgbm in c:\\system\\study\\uom\\projects\\conda_environments\\stats_and_ml\\env\\lib\\site-packages (3.1.1)Note: you may need to restart the kernel to use updated packages.\n",
      "Requirement already satisfied: wheel in c:\\system\\study\\uom\\projects\\conda_environments\\stats_and_ml\\env\\lib\\site-packages (from lightgbm) (0.35.1)\n",
      "Requirement already satisfied: scikit-learn!=0.22.0 in c:\\system\\study\\uom\\projects\\conda_environments\\stats_and_ml\\env\\lib\\site-packages (from lightgbm) (0.23.2)\n",
      "Requirement already satisfied: scipy in c:\\system\\study\\uom\\projects\\conda_environments\\stats_and_ml\\env\\lib\\site-packages (from lightgbm) (1.5.2)\n",
      "Requirement already satisfied: numpy in c:\\system\\study\\uom\\projects\\conda_environments\\stats_and_ml\\env\\lib\\site-packages (from lightgbm) (1.19.2)\n",
      "Requirement already satisfied: threadpoolctl>=2.0.0 in c:\\system\\study\\uom\\projects\\conda_environments\\stats_and_ml\\env\\lib\\site-packages (from scikit-learn!=0.22.0->lightgbm) (2.1.0)\n",
      "Requirement already satisfied: joblib>=0.11 in c:\\system\\study\\uom\\projects\\conda_environments\\stats_and_ml\\env\\lib\\site-packages (from scikit-learn!=0.22.0->lightgbm) (1.0.0)\n",
      "\n"
     ]
    }
   ],
   "source": [
    "%pip install xgboost\n",
    "%pip install lightgbm\n",
    "\n",
    "import numpy as np\n",
    "import pandas as pd\n",
    "import matplotlib.pyplot as plt\n",
    "import xgboost as xgb\n",
    "import seaborn as sns\n",
    "import json\n",
    "import lightgbm as lgb\n",
    "\n",
    "from pandas import datetime\n",
    "import math\n",
    "import re\n",
    "import time\n",
    "import random\n",
    "import os\n",
    "import pickle\n",
    "import joblib\n",
    "\n",
    "from pandas.tseries.offsets import *\n",
    "from operator import *\n",
    "\n",
    "import warnings \n",
    "warnings.filterwarnings('ignore')\n",
    "\n",
    "from sklearn.preprocessing import OneHotEncoder, LabelEncoder, StandardScaler\n",
    "from sklearn.experimental import enable_iterative_imputer\n",
    "from sklearn.impute import SimpleImputer, IterativeImputer\n",
    "\n",
    "from sklearn.pipeline import FeatureUnion, Pipeline\n",
    "from sklearn.compose import ColumnTransformer\n",
    "\n",
    "from sklearn.model_selection import RandomizedSearchCV, TimeSeriesSplit\n",
    "from sklearn.linear_model import SGDRegressor\n",
    "from sklearn.tree import DecisionTreeRegressor\n",
    "from sklearn.ensemble import RandomForestRegressor\n",
    "from sklearn.metrics import make_scorer\n",
    "\n",
    "from IPython.display import Image\n",
    "\n",
    "from sklearn.svm import SVR\n",
    "from sklearn.model_selection import cross_val_score"
   ]
  },
  {
   "cell_type": "code",
   "execution_count": 138,
   "metadata": {
    "ExecuteTime": {
     "end_time": "2021-03-04T11:52:17.109333Z",
     "start_time": "2021-03-04T11:51:38.266121Z"
    },
    "id": "JZB6C7NXqLN0"
   },
   "outputs": [],
   "source": [
    "seed = 21 #Setting seed.\n",
    "\n",
    "df_train = pd.read_csv('./df_weather_no_zeros', parse_dates=['Date'],\n",
    "                       date_parser=(lambda dt: pd.to_datetime(dt, format='%Y-%m-%d')))\n",
    "\n",
    "df_submit = pd.read_csv('./df_submit_with_weather_no_zeros')"
   ]
  },
  {
   "cell_type": "code",
   "execution_count": 139,
   "metadata": {
    "ExecuteTime": {
     "end_time": "2021-03-04T11:52:17.202276Z",
     "start_time": "2021-03-04T11:52:17.112330Z"
    },
    "colab": {
     "base_uri": "https://localhost:8080/",
     "height": 425
    },
    "id": "PVb_Y_-8htUO",
    "outputId": "ca9c8f52-3b5d-4332-c5f7-bce1e3c224ba"
   },
   "outputs": [
    {
     "data": {
      "text/plain": [
       "Index(['Store', 'DayOfWeek', 'Date', 'Sales', 'Open', 'Promo', 'StateHoliday',\n",
       "       'SchoolHoliday', 'SalesLog', 'StoreType', 'Assortment',\n",
       "       'CompetitionDistance', 'CompetitionOpenSinceMonth',\n",
       "       'CompetitionOpenSinceYear', 'Promo2', 'Promo2SinceWeek',\n",
       "       'Promo2SinceYear', 'State', 'Year', 'Month', 'Day', 'WeekOfYear',\n",
       "       'DayOfYear', 'holidays_this_week', 'holidays_last_week',\n",
       "       'holidays_next_week', 'State_holiday_before_days',\n",
       "       'State_holiday_after_days', 'Promo_before_days', 'Promo_after_days',\n",
       "       'School_holiday_before_days', 'School_holiday_after_days',\n",
       "       'Dummy_close', 'SalesPerDay', 'Customers_per_day',\n",
       "       'Sales_Per_Customers_Per_Day', 'CompetitionOpen ', 'PromoOpen',\n",
       "       'PromoInterval0', 'PromoInterval1', 'PromoInterval2', 'PromoInterval3',\n",
       "       'Variation', 'Acceleration', 'Weekly_rolling_mean',\n",
       "       'Monthly_rolling_mean', 'Previous_quarter_median',\n",
       "       'Previous_half_year_median', 'Median_over_day_of_week',\n",
       "       'Promo_median_sales', 'Holiday_median_sales', 'Frequency_2',\n",
       "       'Frequency_3', 'Amplitude_2', 'Amplitude_3', 'file', 'Max_TemperatureC',\n",
       "       'Mean_TemperatureC', 'Min_TemperatureC', 'Dew_PointC', 'MeanDew_PointC',\n",
       "       'Min_DewpointC', 'Max_Humidity', 'Mean_Humidity', 'Min_Humidity',\n",
       "       'Max_Sea_Level_PressurehPa', 'Mean_Sea_Level_PressurehPa',\n",
       "       'Min_Sea_Level_PressurehPa', 'Max_VisibilityKm', 'Mean_VisibilityKm',\n",
       "       'Min_VisibilitykM', 'Max_Wind_SpeedKm_h', 'Mean_Wind_SpeedKm_h',\n",
       "       'Precipitationmm', 'CloudCover', 'Events', 'WindDirDegrees'],\n",
       "      dtype='object')"
      ]
     },
     "execution_count": 139,
     "metadata": {},
     "output_type": "execute_result"
    }
   ],
   "source": [
    "df_train.columns"
   ]
  },
  {
   "cell_type": "code",
   "execution_count": 140,
   "metadata": {
    "ExecuteTime": {
     "end_time": "2021-03-04T11:52:17.387158Z",
     "start_time": "2021-03-04T11:52:17.205273Z"
    },
    "id": "140xqiN3CC5B"
   },
   "outputs": [],
   "source": [
    "#Defining metric.\n",
    "def rmspe(y, yhat):\n",
    "    rmspe = np.sqrt(np.mean(((y - yhat)/y)**2))\n",
    "    return rmspe\n",
    "\n",
    "def rmspe_xg(yhat, y):\n",
    "    # y = y.values\n",
    "    y = y.get_label()\n",
    "    rmspe = np.sqrt(np.mean(((y - yhat)/y)**2))\n",
    "    return \"rmspe\", rmspe\n",
    "\n",
    "scorer = make_scorer(rmspe, greater_is_better=False)"
   ]
  },
  {
   "cell_type": "code",
   "execution_count": 141,
   "metadata": {
    "ExecuteTime": {
     "end_time": "2021-03-04T11:52:17.811991Z",
     "start_time": "2021-03-04T11:52:17.439127Z"
    },
    "colab": {
     "base_uri": "https://localhost:8080/",
     "height": 309
    },
    "id": "Se8O7WxuXbj5",
    "outputId": "4f395dfc-6db7-4908-a76e-ce9b03750d74"
   },
   "outputs": [
    {
     "data": {
      "text/html": [
       "<div>\n",
       "<style scoped>\n",
       "    .dataframe tbody tr th:only-of-type {\n",
       "        vertical-align: middle;\n",
       "    }\n",
       "\n",
       "    .dataframe tbody tr th {\n",
       "        vertical-align: top;\n",
       "    }\n",
       "\n",
       "    .dataframe thead th {\n",
       "        text-align: right;\n",
       "    }\n",
       "</style>\n",
       "<table border=\"1\" class=\"dataframe\">\n",
       "  <thead>\n",
       "    <tr style=\"text-align: right;\">\n",
       "      <th></th>\n",
       "      <th>Store</th>\n",
       "      <th>DayOfWeek</th>\n",
       "      <th>Date</th>\n",
       "      <th>Sales</th>\n",
       "      <th>Open</th>\n",
       "      <th>Promo</th>\n",
       "      <th>StateHoliday</th>\n",
       "      <th>SchoolHoliday</th>\n",
       "      <th>SalesLog</th>\n",
       "      <th>StoreType</th>\n",
       "      <th>...</th>\n",
       "      <th>Min_Sea_Level_PressurehPa</th>\n",
       "      <th>Max_VisibilityKm</th>\n",
       "      <th>Mean_VisibilityKm</th>\n",
       "      <th>Min_VisibilitykM</th>\n",
       "      <th>Max_Wind_SpeedKm_h</th>\n",
       "      <th>Mean_Wind_SpeedKm_h</th>\n",
       "      <th>Precipitationmm</th>\n",
       "      <th>CloudCover</th>\n",
       "      <th>Events</th>\n",
       "      <th>WindDirDegrees</th>\n",
       "    </tr>\n",
       "  </thead>\n",
       "  <tbody>\n",
       "    <tr>\n",
       "      <th>0</th>\n",
       "      <td>353</td>\n",
       "      <td>2</td>\n",
       "      <td>2013-01-01</td>\n",
       "      <td>3139</td>\n",
       "      <td>1</td>\n",
       "      <td>0</td>\n",
       "      <td>a</td>\n",
       "      <td>1</td>\n",
       "      <td>8.051978</td>\n",
       "      <td>b</td>\n",
       "      <td>...</td>\n",
       "      <td>1008</td>\n",
       "      <td>31.0</td>\n",
       "      <td>12.0</td>\n",
       "      <td>10.0</td>\n",
       "      <td>23</td>\n",
       "      <td>6</td>\n",
       "      <td>0.25</td>\n",
       "      <td>6.0</td>\n",
       "      <td>Fog-Rain</td>\n",
       "      <td>228</td>\n",
       "    </tr>\n",
       "    <tr>\n",
       "      <th>1</th>\n",
       "      <td>423</td>\n",
       "      <td>2</td>\n",
       "      <td>2013-01-01</td>\n",
       "      <td>9643</td>\n",
       "      <td>1</td>\n",
       "      <td>0</td>\n",
       "      <td>a</td>\n",
       "      <td>1</td>\n",
       "      <td>9.174091</td>\n",
       "      <td>b</td>\n",
       "      <td>...</td>\n",
       "      <td>1003</td>\n",
       "      <td>31.0</td>\n",
       "      <td>14.0</td>\n",
       "      <td>10.0</td>\n",
       "      <td>26</td>\n",
       "      <td>18</td>\n",
       "      <td>0.76</td>\n",
       "      <td>6.0</td>\n",
       "      <td>Rain</td>\n",
       "      <td>216</td>\n",
       "    </tr>\n",
       "    <tr>\n",
       "      <th>2</th>\n",
       "      <td>948</td>\n",
       "      <td>2</td>\n",
       "      <td>2013-01-01</td>\n",
       "      <td>4491</td>\n",
       "      <td>1</td>\n",
       "      <td>0</td>\n",
       "      <td>a</td>\n",
       "      <td>1</td>\n",
       "      <td>8.410053</td>\n",
       "      <td>b</td>\n",
       "      <td>...</td>\n",
       "      <td>1008</td>\n",
       "      <td>31.0</td>\n",
       "      <td>12.0</td>\n",
       "      <td>10.0</td>\n",
       "      <td>23</td>\n",
       "      <td>6</td>\n",
       "      <td>0.25</td>\n",
       "      <td>6.0</td>\n",
       "      <td>Fog-Rain</td>\n",
       "      <td>228</td>\n",
       "    </tr>\n",
       "    <tr>\n",
       "      <th>3</th>\n",
       "      <td>274</td>\n",
       "      <td>2</td>\n",
       "      <td>2013-01-01</td>\n",
       "      <td>3102</td>\n",
       "      <td>1</td>\n",
       "      <td>0</td>\n",
       "      <td>a</td>\n",
       "      <td>1</td>\n",
       "      <td>8.040125</td>\n",
       "      <td>b</td>\n",
       "      <td>...</td>\n",
       "      <td>1006</td>\n",
       "      <td>31.0</td>\n",
       "      <td>12.0</td>\n",
       "      <td>10.0</td>\n",
       "      <td>23</td>\n",
       "      <td>14</td>\n",
       "      <td>2.03</td>\n",
       "      <td>6.0</td>\n",
       "      <td>Rain</td>\n",
       "      <td>206</td>\n",
       "    </tr>\n",
       "    <tr>\n",
       "      <th>4</th>\n",
       "      <td>1097</td>\n",
       "      <td>2</td>\n",
       "      <td>2013-01-01</td>\n",
       "      <td>5961</td>\n",
       "      <td>1</td>\n",
       "      <td>0</td>\n",
       "      <td>a</td>\n",
       "      <td>1</td>\n",
       "      <td>8.693161</td>\n",
       "      <td>b</td>\n",
       "      <td>...</td>\n",
       "      <td>1008</td>\n",
       "      <td>31.0</td>\n",
       "      <td>19.0</td>\n",
       "      <td>5.0</td>\n",
       "      <td>26</td>\n",
       "      <td>19</td>\n",
       "      <td>0.25</td>\n",
       "      <td>8.0</td>\n",
       "      <td>Rain</td>\n",
       "      <td>-1</td>\n",
       "    </tr>\n",
       "  </tbody>\n",
       "</table>\n",
       "<p>5 rows × 77 columns</p>\n",
       "</div>"
      ],
      "text/plain": [
       "   Store  DayOfWeek       Date  Sales  Open  Promo StateHoliday  \\\n",
       "0    353          2 2013-01-01   3139     1      0            a   \n",
       "1    423          2 2013-01-01   9643     1      0            a   \n",
       "2    948          2 2013-01-01   4491     1      0            a   \n",
       "3    274          2 2013-01-01   3102     1      0            a   \n",
       "4   1097          2 2013-01-01   5961     1      0            a   \n",
       "\n",
       "   SchoolHoliday  SalesLog StoreType  ... Min_Sea_Level_PressurehPa  \\\n",
       "0              1  8.051978         b  ...                      1008   \n",
       "1              1  9.174091         b  ...                      1003   \n",
       "2              1  8.410053         b  ...                      1008   \n",
       "3              1  8.040125         b  ...                      1006   \n",
       "4              1  8.693161         b  ...                      1008   \n",
       "\n",
       "   Max_VisibilityKm  Mean_VisibilityKm  Min_VisibilitykM  Max_Wind_SpeedKm_h  \\\n",
       "0              31.0               12.0              10.0                  23   \n",
       "1              31.0               14.0              10.0                  26   \n",
       "2              31.0               12.0              10.0                  23   \n",
       "3              31.0               12.0              10.0                  23   \n",
       "4              31.0               19.0               5.0                  26   \n",
       "\n",
       "   Mean_Wind_SpeedKm_h  Precipitationmm CloudCover    Events  WindDirDegrees  \n",
       "0                    6             0.25        6.0  Fog-Rain             228  \n",
       "1                   18             0.76        6.0      Rain             216  \n",
       "2                    6             0.25        6.0  Fog-Rain             228  \n",
       "3                   14             2.03        6.0      Rain             206  \n",
       "4                   19             0.25        8.0      Rain              -1  \n",
       "\n",
       "[5 rows x 77 columns]"
      ]
     },
     "execution_count": 141,
     "metadata": {},
     "output_type": "execute_result"
    }
   ],
   "source": [
    "df_train.head()"
   ]
  },
  {
   "cell_type": "code",
   "execution_count": 142,
   "metadata": {
    "ExecuteTime": {
     "end_time": "2021-03-04T11:52:18.462608Z",
     "start_time": "2021-03-04T11:52:17.818988Z"
    },
    "id": "A4IA2f3kYX-V"
   },
   "outputs": [],
   "source": [
    "df_train.sort_values('Date', inplace=True)"
   ]
  },
  {
   "cell_type": "markdown",
   "metadata": {
    "id": "3Qc0EUMJt-Nj"
   },
   "source": [
    "# Preprocessing Data."
   ]
  },
  {
   "cell_type": "markdown",
   "metadata": {
    "id": "u8qMH2UN8S3R"
   },
   "source": [
    "*Note: Some collinear features are kept to understand their effect on models."
   ]
  },
  {
   "cell_type": "code",
   "execution_count": 143,
   "metadata": {
    "ExecuteTime": {
     "end_time": "2021-03-04T11:52:19.342190Z",
     "start_time": "2021-03-04T11:52:18.465607Z"
    },
    "id": "hrnoHHQ7t-Nl"
   },
   "outputs": [],
   "source": [
    "#Removing some features based on VIF analysis done in feature engineering notebook.\n",
    "df_1 = df_train.drop(['Date'], axis=1)"
   ]
  },
  {
   "cell_type": "code",
   "execution_count": 144,
   "metadata": {
    "ExecuteTime": {
     "end_time": "2021-03-04T11:52:19.790928Z",
     "start_time": "2021-03-04T11:52:19.400154Z"
    },
    "id": "VQzIjU4UkyR4"
   },
   "outputs": [],
   "source": [
    "df_submit = df_submit.rename(columns={'Sales_per_day':'SalesPerDay'})"
   ]
  },
  {
   "cell_type": "code",
   "execution_count": 145,
   "metadata": {
    "ExecuteTime": {
     "end_time": "2021-03-04T11:52:19.861883Z",
     "start_time": "2021-03-04T11:52:19.794922Z"
    },
    "colab": {
     "base_uri": "https://localhost:8080/",
     "height": 51
    },
    "id": "LreyNShUuYcM",
    "outputId": "1c4969f0-12f3-40aa-802d-eb62eeed5e0f"
   },
   "outputs": [
    {
     "name": "stdout",
     "output_type": "stream",
     "text": [
      "Customers\n",
      "Max_Gust_SpeedKm_h\n"
     ]
    }
   ],
   "source": [
    "for i in df_submit.columns:\n",
    "    if i not in df_1.columns:\n",
    "        print(i)"
   ]
  },
  {
   "cell_type": "code",
   "execution_count": 146,
   "metadata": {
    "ExecuteTime": {
     "end_time": "2021-03-04T11:52:20.025781Z",
     "start_time": "2021-03-04T11:52:19.864880Z"
    },
    "colab": {
     "base_uri": "https://localhost:8080/",
     "height": 102
    },
    "id": "1XWsd33IQsK0",
    "outputId": "2436f134-2ed7-40ec-acb5-cd4ea1da9c4f"
   },
   "outputs": [
    {
     "name": "stdout",
     "output_type": "stream",
     "text": [
      "SalesLog\n",
      "Monthly_rolling_mean\n",
      "Promo_median_sales\n",
      "Holiday_median_sales\n"
     ]
    }
   ],
   "source": [
    "for i in df_1.columns:\n",
    "    if i not in df_submit.columns:\n",
    "        print(i)"
   ]
  },
  {
   "cell_type": "code",
   "execution_count": 147,
   "metadata": {
    "ExecuteTime": {
     "end_time": "2021-03-04T11:52:20.929220Z",
     "start_time": "2021-03-04T11:52:20.028783Z"
    },
    "id": "VB9TDKJ-t-Np"
   },
   "outputs": [],
   "source": [
    "df_submit.drop(['Max_Gust_SpeedKm_h'], axis=1, inplace=True)\n",
    "df_1.drop(['Monthly_rolling_mean','Promo_median_sales','Holiday_median_sales'], axis=1, inplace=True)"
   ]
  },
  {
   "cell_type": "code",
   "execution_count": 148,
   "metadata": {
    "ExecuteTime": {
     "end_time": "2021-03-04T11:52:21.884561Z",
     "start_time": "2021-03-04T11:52:20.932218Z"
    },
    "id": "xK4toC1ft-Ns"
   },
   "outputs": [],
   "source": [
    "df_1[['Promo2SinceWeek','Promo2SinceYear','PromoInterval0','PromoInterval1','PromoInterval2','PromoInterval3','PromoOpen']] = df_1[['Promo2SinceWeek','Promo2SinceYear','PromoInterval0','PromoInterval1','PromoInterval2','PromoInterval3','PromoOpen']].fillna(-1)\n",
    "\n",
    "df_submit[['Promo2SinceWeek','Promo2SinceYear','PromoInterval0','PromoInterval1','PromoInterval2','PromoInterval3','PromoOpen']] = df_submit[['Promo2SinceWeek','Promo2SinceYear','PromoInterval0','PromoInterval1','PromoInterval2','PromoInterval3','PromoOpen']].fillna(-1)"
   ]
  },
  {
   "cell_type": "code",
   "execution_count": 149,
   "metadata": {
    "ExecuteTime": {
     "end_time": "2021-03-04T11:52:22.719232Z",
     "start_time": "2021-03-04T11:52:21.887563Z"
    },
    "id": "r3mtQ3_vt-Nv"
   },
   "outputs": [],
   "source": [
    "df_1['StateHoliday'].replace(0, '0', inplace=True)\n",
    "df_submit['StateHoliday'].replace(0, '0', inplace=True)"
   ]
  },
  {
   "cell_type": "code",
   "execution_count": 150,
   "metadata": {
    "ExecuteTime": {
     "end_time": "2021-03-04T11:52:28.814542Z",
     "start_time": "2021-03-04T11:52:22.726222Z"
    },
    "id": "UulEaQ6tt-Ny"
   },
   "outputs": [],
   "source": [
    "X = df_1.drop(['SalesLog','Sales'], axis=1)\n",
    "y = df_1['Sales']"
   ]
  },
  {
   "cell_type": "code",
   "execution_count": 151,
   "metadata": {
    "ExecuteTime": {
     "end_time": "2021-03-04T11:52:29.653979Z",
     "start_time": "2021-03-04T11:52:28.819536Z"
    },
    "id": "GObMFvvqRciR"
   },
   "outputs": [],
   "source": [
    "X.drop(['Open'], axis=1, inplace=True)"
   ]
  },
  {
   "cell_type": "code",
   "execution_count": 152,
   "metadata": {
    "ExecuteTime": {
     "end_time": "2021-03-04T11:52:34.210994Z",
     "start_time": "2021-03-04T11:52:29.656980Z"
    },
    "id": "22ozMfPJt-N4"
   },
   "outputs": [],
   "source": [
    "df_submit['Id'] = df_submit.index\n",
    "#Some Test ids where Open will be equal to zero.\n",
    "b = [480, 1336, 2192, 3048, 4760, 5616, 6472, 7328, 8184, 9040, 10752]\n",
    "#Saving Ids for further use.\n",
    "ids = df_submit['Id'].values\n",
    "#Saving test ids where store were closed.\n",
    "closed_test_ids = df_submit.loc[df_submit['Open']==0]['Id']\n",
    "#Dropping column Id as it is not in training data.\n",
    "df_submit.drop(['Id','Open'], axis=1, inplace=True)"
   ]
  },
  {
   "cell_type": "code",
   "execution_count": 153,
   "metadata": {
    "ExecuteTime": {
     "end_time": "2021-03-04T11:52:34.577769Z",
     "start_time": "2021-03-04T11:52:34.213996Z"
    },
    "colab": {
     "base_uri": "https://localhost:8080/",
     "height": 34
    },
    "id": "oLKiAYHot-OK",
    "outputId": "0aab6fad-7840-4203-b268-7e7086509ff1"
   },
   "outputs": [
    {
     "data": {
      "text/plain": [
       "(41088, 72)"
      ]
     },
     "execution_count": 153,
     "metadata": {},
     "output_type": "execute_result"
    }
   ],
   "source": [
    "df_submit.shape"
   ]
  },
  {
   "cell_type": "markdown",
   "metadata": {
    "id": "4gtcgcnW84zh"
   },
   "source": [
    "# Creating baseline model with basic features only for Forward Feature Selection."
   ]
  },
  {
   "cell_type": "markdown",
   "metadata": {
    "id": "6aKERlbf9P3_"
   },
   "source": [
    "In this section I create a model for checking the performance without using any new features."
   ]
  },
  {
   "cell_type": "code",
   "execution_count": 154,
   "metadata": {
    "ExecuteTime": {
     "end_time": "2021-03-04T11:52:35.954703Z",
     "start_time": "2021-03-04T11:52:34.581769Z"
    },
    "id": "vgaGOjFr84zn"
   },
   "outputs": [],
   "source": [
    "base_X = X[['Store', 'DayOfWeek', 'Promo','StateHoliday', 'SchoolHoliday','StoreType', 'Assortment', 'CompetitionDistance',\n",
    "            'CompetitionOpenSinceMonth', 'CompetitionOpenSinceYear', 'Promo2', 'Promo2SinceWeek', 'Promo2SinceYear', 'Year',\n",
    "            'Month', 'Day', 'WeekOfYear', 'DayOfYear',  'SalesPerDay', 'Customers_per_day', 'Sales_Per_Customers_Per_Day', \n",
    "            'PromoInterval0', 'PromoInterval1', 'PromoInterval2', 'PromoInterval3']]\n",
    "\n",
    "y = df_1['Sales']"
   ]
  },
  {
   "cell_type": "code",
   "execution_count": 155,
   "metadata": {
    "ExecuteTime": {
     "end_time": "2021-03-04T11:52:36.614292Z",
     "start_time": "2021-03-04T11:52:35.958703Z"
    },
    "id": "gjxyULMS84zs"
   },
   "outputs": [],
   "source": [
    "base_df = pd.concat([base_X,y], axis=1)"
   ]
  },
  {
   "cell_type": "code",
   "execution_count": 156,
   "metadata": {
    "ExecuteTime": {
     "end_time": "2021-03-04T11:52:36.672259Z",
     "start_time": "2021-03-04T11:52:36.618294Z"
    },
    "id": "VxBzHpBP84zv"
   },
   "outputs": [],
   "source": [
    "base_submit = df_submit[['Store', 'DayOfWeek', 'Promo','StateHoliday', 'SchoolHoliday','StoreType', 'Assortment', 'CompetitionDistance',\n",
    "            'CompetitionOpenSinceMonth', 'CompetitionOpenSinceYear', 'Promo2', 'Promo2SinceWeek', 'Promo2SinceYear', 'Year',\n",
    "            'Month', 'Day', 'WeekOfYear', 'DayOfYear',  'SalesPerDay', 'Customers_per_day', 'Sales_Per_Customers_Per_Day', \n",
    "            'PromoInterval0', 'PromoInterval1', 'PromoInterval2', 'PromoInterval3']]"
   ]
  },
  {
   "cell_type": "code",
   "execution_count": 157,
   "metadata": {
    "ExecuteTime": {
     "end_time": "2021-03-04T11:52:40.455914Z",
     "start_time": "2021-03-04T11:52:36.676258Z"
    },
    "id": "UTbhjdHX84zy"
   },
   "outputs": [],
   "source": [
    "from sklearn.preprocessing import OneHotEncoder, StandardScaler\n",
    "from sklearn.impute import SimpleImputer, IterativeImputer\n",
    "\n",
    "categorical_colums = ['StoreType','Assortment','StateHoliday','DayOfWeek','Promo','Year','Promo2']\n",
    "numeric_cols = [i for i in base_X.columns if i not in cat_cols]\n",
    "\n",
    "numeric_transformer = Pipeline(steps = [('imp', IterativeImputer(initial_strategy='median')),\n",
    "                                    ('scaler', StandardScaler())])\n",
    "\n",
    "categorical_transformer = Pipeline(steps = [('imp', SimpleImputer(strategy='most_frequent')),\n",
    "                                    ('onehot', OneHotEncoder(handle_unknown='ignore'))])\n",
    "\n",
    "preprocessor = ColumnTransformer(transformers=[('num', numeric_transformer,numeric_cols),\n",
    "                                               ('cat',categorical_transformer,categorical_colums)])                                    "
   ]
  },
  {
   "cell_type": "code",
   "execution_count": 158,
   "metadata": {
    "ExecuteTime": {
     "end_time": "2021-03-04T12:01:59.292611Z",
     "start_time": "2021-03-04T11:52:40.462913Z"
    },
    "colab": {
     "base_uri": "https://localhost:8080/",
     "height": 561
    },
    "id": "39AWnrDj84z1",
    "outputId": "c097eb90-f739-4c9e-c91b-7fabbc66da55"
   },
   "outputs": [
    {
     "data": {
      "text/plain": [
       "ColumnTransformer(transformers=[('num',\n",
       "                                 Pipeline(steps=[('imp',\n",
       "                                                  IterativeImputer(initial_strategy='median')),\n",
       "                                                 ('scaler', StandardScaler())]),\n",
       "                                 ['Store', 'SchoolHoliday',\n",
       "                                  'CompetitionDistance',\n",
       "                                  'CompetitionOpenSinceMonth',\n",
       "                                  'CompetitionOpenSinceYear', 'Promo2SinceWeek',\n",
       "                                  'Promo2SinceYear', 'Month', 'Day',\n",
       "                                  'WeekOfYear', 'DayOfYear', 'SalesPerDay',\n",
       "                                  'Customers_per_day',\n",
       "                                  'Sales_Per_Customers_Per_Day',\n",
       "                                  'PromoInterval0', 'PromoInterval1',\n",
       "                                  'PromoInterval2', 'PromoInterval3']),\n",
       "                                ('cat',\n",
       "                                 Pipeline(steps=[('imp',\n",
       "                                                  SimpleImputer(strategy='most_frequent')),\n",
       "                                                 ('onehot',\n",
       "                                                  OneHotEncoder(handle_unknown='ignore'))]),\n",
       "                                 ['StoreType', 'Assortment', 'StateHoliday',\n",
       "                                  'DayOfWeek', 'Promo', 'Year', 'Promo2'])])"
      ]
     },
     "execution_count": 158,
     "metadata": {},
     "output_type": "execute_result"
    }
   ],
   "source": [
    "preprocessor.fit(base_X)"
   ]
  },
  {
   "cell_type": "code",
   "execution_count": 159,
   "metadata": {
    "ExecuteTime": {
     "end_time": "2021-03-04T12:01:59.574335Z",
     "start_time": "2021-03-04T12:01:59.301603Z"
    }
   },
   "outputs": [],
   "source": [
    "pickle.dump(preprocessor, open('./preprocessor_base.pkl','wb'))"
   ]
  },
  {
   "cell_type": "code",
   "execution_count": 160,
   "metadata": {
    "ExecuteTime": {
     "end_time": "2021-03-04T12:01:59.620306Z",
     "start_time": "2021-03-04T12:01:59.588325Z"
    },
    "id": "iKRHQeUo84z4"
   },
   "outputs": [],
   "source": [
    "# preprocessor = pickle.load(open('/content/drive/My Drive/Rossmann Sales Forecasting/preprocessor_base.pkl','rb'))"
   ]
  },
  {
   "cell_type": "code",
   "execution_count": 161,
   "metadata": {
    "ExecuteTime": {
     "end_time": "2021-03-04T12:02:04.679201Z",
     "start_time": "2021-03-04T12:01:59.628303Z"
    },
    "id": "YEzcqoVn84z7"
   },
   "outputs": [],
   "source": [
    "X_transformed = preprocessor.transform(base_X)\n",
    "x_submit = preprocessor.transform(base_submit)"
   ]
  },
  {
   "cell_type": "code",
   "execution_count": 162,
   "metadata": {
    "ExecuteTime": {
     "end_time": "2021-03-04T12:02:04.686196Z",
     "start_time": "2021-03-04T12:02:04.682200Z"
    },
    "id": "3LxDm7_884z_"
   },
   "outputs": [],
   "source": [
    "from sklearn.model_selection import train_test_split"
   ]
  },
  {
   "cell_type": "code",
   "execution_count": 163,
   "metadata": {
    "ExecuteTime": {
     "end_time": "2021-03-04T12:02:05.110272Z",
     "start_time": "2021-03-04T12:02:04.689195Z"
    },
    "id": "KAxHs4dH840C"
   },
   "outputs": [],
   "source": [
    "X_train, X_test, y_train, y_test = train_test_split(X_transformed, y, shuffle=False, random_state=21, test_size=0.2)"
   ]
  },
  {
   "cell_type": "code",
   "execution_count": 164,
   "metadata": {
    "ExecuteTime": {
     "end_time": "2021-03-04T12:08:52.888036Z",
     "start_time": "2021-03-04T12:02:05.113271Z"
    },
    "colab": {
     "base_uri": "https://localhost:8080/",
     "height": 136
    },
    "id": "25mLZmiH840E",
    "outputId": "1901e4ff-e613-41b2-ea62-f25aeee3f1e9"
   },
   "outputs": [
    {
     "data": {
      "text/plain": [
       "RandomForestRegressor(max_depth=20, n_jobs=-1, random_state=21)"
      ]
     },
     "execution_count": 164,
     "metadata": {},
     "output_type": "execute_result"
    }
   ],
   "source": [
    "from sklearn.ensemble import RandomForestRegressor\n",
    "\n",
    "model = RandomForestRegressor(max_depth=20,n_jobs=-1, random_state=21)\n",
    "model.fit(X_train, y_train)"
   ]
  },
  {
   "cell_type": "code",
   "execution_count": 165,
   "metadata": {
    "ExecuteTime": {
     "end_time": "2021-03-04T12:08:58.146777Z",
     "start_time": "2021-03-04T12:08:52.893035Z"
    },
    "colab": {
     "base_uri": "https://localhost:8080/",
     "height": 34
    },
    "id": "zMkl3jCh840H",
    "outputId": "be78ce49-1943-468a-d946-7f1470bb1552"
   },
   "outputs": [
    {
     "data": {
      "text/plain": [
       "0.10512881257525138"
      ]
     },
     "execution_count": 165,
     "metadata": {},
     "output_type": "execute_result"
    }
   ],
   "source": [
    "train_preds = model.predict(X_train)\n",
    "rmspe(y_train,train_preds)"
   ]
  },
  {
   "cell_type": "code",
   "execution_count": 166,
   "metadata": {
    "ExecuteTime": {
     "end_time": "2021-03-04T12:08:59.469955Z",
     "start_time": "2021-03-04T12:08:58.150772Z"
    },
    "colab": {
     "base_uri": "https://localhost:8080/",
     "height": 34
    },
    "id": "-xHFK49t840K",
    "outputId": "4ce92b84-d104-42b2-c87e-2b77c19d8f49"
   },
   "outputs": [
    {
     "data": {
      "text/plain": [
       "0.1804904917394162"
      ]
     },
     "execution_count": 166,
     "metadata": {},
     "output_type": "execute_result"
    }
   ],
   "source": [
    "preds = model.predict(X_test)\n",
    "rmspe(y_test, preds)"
   ]
  },
  {
   "cell_type": "code",
   "execution_count": 167,
   "metadata": {
    "ExecuteTime": {
     "end_time": "2021-03-04T12:17:45.499723Z",
     "start_time": "2021-03-04T12:08:59.603871Z"
    },
    "colab": {
     "base_uri": "https://localhost:8080/",
     "height": 136
    },
    "id": "C_Dyz2HY840O",
    "outputId": "d1e7887e-2b03-4b8f-b38a-8bf0954fd68b"
   },
   "outputs": [
    {
     "data": {
      "text/plain": [
       "RandomForestRegressor(max_depth=20, n_jobs=-1, random_state=21)"
      ]
     },
     "execution_count": 167,
     "metadata": {},
     "output_type": "execute_result"
    }
   ],
   "source": [
    "model.fit(X_transformed, y)"
   ]
  },
  {
   "cell_type": "code",
   "execution_count": 168,
   "metadata": {
    "ExecuteTime": {
     "end_time": "2021-03-04T12:17:45.896476Z",
     "start_time": "2021-03-04T12:17:45.503722Z"
    },
    "id": "ogXSv8gH840R"
   },
   "outputs": [],
   "source": [
    "preds = model.predict(x_submit)"
   ]
  },
  {
   "cell_type": "code",
   "execution_count": 169,
   "metadata": {
    "ExecuteTime": {
     "end_time": "2021-03-04T12:18:10.997917Z",
     "start_time": "2021-03-04T12:17:45.899474Z"
    },
    "id": "iEHfvzqu840V"
   },
   "outputs": [],
   "source": [
    "#Defining a new dataframe to contain the predictions according to the IDs.\n",
    "df_ypred = pd.DataFrame()\n",
    "df_ypred['Id'] = ids\n",
    "\n",
    "# Scale back the log of sales to sales.\n",
    "df_ypred['Sales'] = preds  # 0.983 is a correction factor.\n",
    "\n",
    "for i in range(len(df_ypred)):\n",
    "\n",
    "    id = df_ypred.iloc[i]['Id']\n",
    "#     if id in closed_test_ids or b:\n",
    "    if id in closed_test_ids or b:\n",
    "        df_ypred.iloc[i]['Sales'] = 0\n",
    "    else:\n",
    "        continue\n",
    "\n",
    "#Sorting values according to ID\n",
    "df_ypred.sort_values('Id', inplace=True)\n",
    "df_ypred[['Id', 'Sales']].to_csv('rossmann_base_RF_with_freq.csv', index=False)"
   ]
  },
  {
   "cell_type": "code",
   "execution_count": 170,
   "metadata": {
    "ExecuteTime": {
     "end_time": "2021-03-04T12:18:11.006911Z",
     "start_time": "2021-03-04T12:18:11.001916Z"
    },
    "colab": {
     "base_uri": "https://localhost:8080/",
     "height": 112
    },
    "id": "hTt0Jv6OgVzL",
    "outputId": "c3603da5-d783-436c-a377-cfcb8c5d7f43"
   },
   "outputs": [],
   "source": [
    "# Image('/content/drive/My Drive/Rossmann Sales Forecasting/Basic features score.png')"
   ]
  },
  {
   "cell_type": "markdown",
   "metadata": {
    "id": "hILRpRhCNLbc"
   },
   "source": [
    "*Note: I will use above score to check the effects of new features being added or reomved."
   ]
  },
  {
   "cell_type": "markdown",
   "metadata": {
    "id": "Q4HvjaemkSBS"
   },
   "source": [
    "# Models after selecting features using forward selection method."
   ]
  },
  {
   "cell_type": "markdown",
   "metadata": {
    "id": "TdvPxafj9e3m"
   },
   "source": [
    "In this section I have used features after doing forward selection on the above base model created. In forward selection we add a new feature and check whether it improves the performance or degrades it. The features which improve the performance are kept and others are discarded.\n",
    "\n",
    "As the process is very lenghty and time consuming I have not included forward feature selection process here, and used the selected features directly."
   ]
  },
  {
   "cell_type": "code",
   "execution_count": 171,
   "metadata": {
    "ExecuteTime": {
     "end_time": "2021-03-04T12:18:12.000335Z",
     "start_time": "2021-03-04T12:18:11.011909Z"
    },
    "id": "hJm3Ypm4kSBY"
   },
   "outputs": [],
   "source": [
    "base_X = X[['Store', 'DayOfWeek', 'Promo','StateHoliday', 'SchoolHoliday','StoreType', 'Assortment', 'CompetitionDistance',\n",
    "            'CompetitionOpenSinceMonth', 'CompetitionOpenSinceYear', 'Promo2', 'Promo2SinceWeek', 'Promo2SinceYear', 'Year',\n",
    "            'Month', 'Day', 'WeekOfYear', 'DayOfYear',  'SalesPerDay', 'Customers_per_day', 'Sales_Per_Customers_Per_Day', \n",
    "            'PromoInterval0', 'PromoInterval1', 'PromoInterval2', 'PromoInterval3','Acceleration','State','Promo_before_days',\n",
    "            'Promo_after_days','Frequency_2', 'Frequency_3', 'Amplitude_2','Amplitude_3','Mean_TemperatureC','Events']]\n",
    "\n",
    "y = df_1['Sales']"
   ]
  },
  {
   "cell_type": "code",
   "execution_count": 172,
   "metadata": {
    "ExecuteTime": {
     "end_time": "2021-03-04T12:18:12.342127Z",
     "start_time": "2021-03-04T12:18:12.004335Z"
    },
    "id": "7_TBZs0dkSBb"
   },
   "outputs": [],
   "source": [
    "base_df = pd.concat([base_X,y], axis=1)"
   ]
  },
  {
   "cell_type": "code",
   "execution_count": 173,
   "metadata": {
    "ExecuteTime": {
     "end_time": "2021-03-04T12:18:12.387098Z",
     "start_time": "2021-03-04T12:18:12.346125Z"
    },
    "id": "EOzr5blZkSBe"
   },
   "outputs": [],
   "source": [
    "base_submit = df_submit[['Store', 'DayOfWeek', 'Promo','StateHoliday', 'SchoolHoliday','StoreType', 'Assortment', 'CompetitionDistance',\n",
    "            'CompetitionOpenSinceMonth', 'CompetitionOpenSinceYear', 'Promo2', 'Promo2SinceWeek', 'Promo2SinceYear', 'Year',\n",
    "            'Month', 'Day', 'WeekOfYear', 'DayOfYear',  'SalesPerDay', 'Customers_per_day', 'Sales_Per_Customers_Per_Day', \n",
    "            'PromoInterval0', 'PromoInterval1', 'PromoInterval2', 'PromoInterval3','Acceleration','State','Promo_before_days', \n",
    "            'Promo_after_days','Frequency_2', 'Frequency_3', 'Amplitude_2','Amplitude_3','Mean_TemperatureC','Events']]"
   ]
  },
  {
   "cell_type": "code",
   "execution_count": 174,
   "metadata": {
    "ExecuteTime": {
     "end_time": "2021-03-04T12:18:12.997814Z",
     "start_time": "2021-03-04T12:18:12.390098Z"
    },
    "id": "GME9kAC6kSBh"
   },
   "outputs": [],
   "source": [
    "cat_cols = ['StoreType','Assortment','StateHoliday','DayOfWeek','Promo','Year','Promo2','State','Events']\n",
    "num_cols = [i for i in base_X.columns if i not in cat_cols]\n",
    "\n",
    "num_transformer = Pipeline(steps = [('imp', IterativeImputer(initial_strategy='median')),\n",
    "                                    ('scaler', StandardScaler())])\n",
    "\n",
    "cat_transformer = Pipeline(steps = [('imp', SimpleImputer(strategy='most_frequent')),\n",
    "                                    ('onehot', OneHotEncoder(handle_unknown='ignore'))])\n",
    "\n",
    "preprocessor = ColumnTransformer(transformers=[('num', num_transformer,num_cols),\n",
    "                                               ('cat',cat_transformer,cat_cols)])                                    "
   ]
  },
  {
   "cell_type": "code",
   "execution_count": 175,
   "metadata": {
    "ExecuteTime": {
     "end_time": "2021-03-04T12:52:10.588431Z",
     "start_time": "2021-03-04T12:18:13.006805Z"
    },
    "colab": {
     "base_uri": "https://localhost:8080/",
     "height": 561
    },
    "id": "dU2LkRnFkSBl",
    "outputId": "44744bd1-4bd7-42fb-d947-b9340001fe72"
   },
   "outputs": [],
   "source": [
    "preprocessor.fit(base_X)\n",
    "pickle.dump(preprocessor, open('./preprocessor_base.pkl','wb'))"
   ]
  },
  {
   "cell_type": "code",
   "execution_count": 176,
   "metadata": {
    "ExecuteTime": {
     "end_time": "2021-03-04T12:52:10.626410Z",
     "start_time": "2021-03-04T12:52:10.616409Z"
    },
    "id": "gqURJLOAkSBo"
   },
   "outputs": [],
   "source": [
    "# preprocessor = pickle.load(open('/content/drive/My Drive/Rossmann Sales Forecasting/preprocessor_base.pkl','rb'))"
   ]
  },
  {
   "cell_type": "code",
   "execution_count": 177,
   "metadata": {
    "ExecuteTime": {
     "end_time": "2021-03-04T12:52:19.821710Z",
     "start_time": "2021-03-04T12:52:10.635404Z"
    },
    "id": "UuZUvCtbkSBt"
   },
   "outputs": [],
   "source": [
    "X_transformed = preprocessor.transform(base_X)\n",
    "x_submit = preprocessor.transform(base_submit)"
   ]
  },
  {
   "cell_type": "code",
   "execution_count": 178,
   "metadata": {
    "ExecuteTime": {
     "end_time": "2021-03-04T12:52:19.842698Z",
     "start_time": "2021-03-04T12:52:19.837702Z"
    },
    "id": "0W_XDWJ4kSBx"
   },
   "outputs": [],
   "source": []
  },
  {
   "cell_type": "code",
   "execution_count": 179,
   "metadata": {
    "ExecuteTime": {
     "end_time": "2021-03-04T12:52:21.016051Z",
     "start_time": "2021-03-04T12:52:19.900660Z"
    },
    "id": "FXDW2ihCkSBz"
   },
   "outputs": [],
   "source": [
    "from sklearn.model_selection import train_test_split\n",
    "X_train, X_test, y_train, y_test = train_test_split(X_transformed, y, \n",
    "                                                    shuffle=False, random_state=21, test_size=0.2)"
   ]
  },
  {
   "cell_type": "markdown",
   "metadata": {
    "id": "S_K5pMTJDSxq"
   },
   "source": [
    "## SGD Regressor."
   ]
  },
  {
   "cell_type": "code",
   "execution_count": 180,
   "metadata": {
    "ExecuteTime": {
     "end_time": "2021-03-04T12:52:44.152466Z",
     "start_time": "2021-03-04T12:52:21.019043Z"
    },
    "colab": {
     "base_uri": "https://localhost:8080/"
    },
    "id": "sU7EZWcD_Z97",
    "outputId": "9ab127a1-79f3-4e15-b8e1-2482476be41f"
   },
   "outputs": [
    {
     "data": {
      "text/plain": [
       "array([ 6735.38384254,  9017.67824601,  5248.60549985, ...,\n",
       "        5990.35098222, 12432.40525551, 21491.14049656])"
      ]
     },
     "execution_count": 180,
     "metadata": {},
     "output_type": "execute_result"
    }
   ],
   "source": [
    "model = SGDRegressor(eta0=0.1,fit_intercept=False, shuffle=False,learning_rate='adaptive',random_state=21,)\n",
    "\n",
    "model.fit(X_train, y_train)\n",
    "\n",
    "train_preds = model.predict(X_train)\n",
    "preds = model.predict(X_test)\n",
    "preds"
   ]
  },
  {
   "cell_type": "code",
   "execution_count": 181,
   "metadata": {
    "ExecuteTime": {
     "end_time": "2021-03-04T12:52:44.584188Z",
     "start_time": "2021-03-04T12:52:44.157464Z"
    },
    "colab": {
     "base_uri": "https://localhost:8080/"
    },
    "id": "FA3eCz7_VyaO",
    "outputId": "0c135561-25b0-4473-af70-e0e6cbf75a08"
   },
   "outputs": [
    {
     "name": "stdout",
     "output_type": "stream",
     "text": [
      "Metric score on train set is 0.29968294599201517.\n",
      "Metric score on test set is 0.2506738793145069.\n"
     ]
    }
   ],
   "source": [
    "print(f'Metric score on train set is {rmspe(y_train, train_preds)}.')\n",
    "print(f'Metric score on test set is {rmspe(y_test, preds)}.')"
   ]
  },
  {
   "cell_type": "code",
   "execution_count": 182,
   "metadata": {
    "ExecuteTime": {
     "end_time": "2021-03-04T12:53:09.967444Z",
     "start_time": "2021-03-04T12:52:44.588184Z"
    },
    "colab": {
     "base_uri": "https://localhost:8080/"
    },
    "id": "3Dpmj_POunLH",
    "outputId": "8be476e2-3b46-407a-e656-7e79e781b462"
   },
   "outputs": [
    {
     "data": {
      "text/plain": [
       "SGDRegressor(eta0=0.1, fit_intercept=False, learning_rate='adaptive',\n",
       "             random_state=21, shuffle=False)"
      ]
     },
     "execution_count": 182,
     "metadata": {},
     "output_type": "execute_result"
    }
   ],
   "source": [
    "model.fit(X_transformed,y)"
   ]
  },
  {
   "cell_type": "code",
   "execution_count": 183,
   "metadata": {
    "ExecuteTime": {
     "end_time": "2021-03-04T12:53:10.028403Z",
     "start_time": "2021-03-04T12:53:09.972449Z"
    },
    "id": "_5l0R9cP7WhP"
   },
   "outputs": [],
   "source": [
    "submit_preds = model.predict(x_submit)"
   ]
  },
  {
   "cell_type": "code",
   "execution_count": 184,
   "metadata": {
    "ExecuteTime": {
     "end_time": "2021-03-04T12:53:33.191376Z",
     "start_time": "2021-03-04T12:53:10.052388Z"
    },
    "id": "K7VfkDTA7E1z"
   },
   "outputs": [],
   "source": [
    "#Defining a new dataframe to contain the predictions according to the IDs.\n",
    "df_ypred = pd.DataFrame()\n",
    "df_ypred['Id'] = ids\n",
    "\n",
    "# Scale back the log of sales to sales.\n",
    "df_ypred['Sales'] = submit_preds * 0.983 # 0.983 is a correction factor.\n",
    "\n",
    "for i in range(len(df_ypred)):\n",
    "\n",
    "    id = df_ypred.iloc[i]['Id']\n",
    "    if id in closed_test_ids or b:\n",
    "        df_ypred.iloc[i]['Sales'] = 0\n",
    "    else:\n",
    "        continue\n",
    "\n",
    "#Sorting values according to ID\n",
    "df_ypred.sort_values('Id', inplace=True)\n",
    "df_ypred[['Id', 'Sales']].to_csv('rossmann_sgd_selected_features.csv', index=False)"
   ]
  },
  {
   "cell_type": "code",
   "execution_count": 185,
   "metadata": {
    "ExecuteTime": {
     "end_time": "2021-03-04T12:53:33.226357Z",
     "start_time": "2021-03-04T12:53:33.220361Z"
    },
    "colab": {
     "base_uri": "https://localhost:8080/",
     "height": 166
    },
    "id": "PJIWv-bN8EGL",
    "outputId": "9c23968c-8f86-4185-f5e2-961fccdddfa3"
   },
   "outputs": [],
   "source": [
    "# Image('/content/drive/My Drive/Rossmann Sales Forecasting/sgd regressor with selected features.png')"
   ]
  },
  {
   "cell_type": "markdown",
   "metadata": {
    "id": "mo2iIPDOVzny"
   },
   "source": [
    "## Decision Tree Regressor.\n"
   ]
  },
  {
   "cell_type": "code",
   "execution_count": 186,
   "metadata": {
    "ExecuteTime": {
     "end_time": "2021-03-04T12:53:55.786364Z",
     "start_time": "2021-03-04T12:53:33.230356Z"
    },
    "colab": {
     "base_uri": "https://localhost:8080/"
    },
    "id": "dVwAnEkqKLND",
    "outputId": "a82e9c5b-549e-4d99-f03f-06d8fba0be80"
   },
   "outputs": [
    {
     "data": {
      "text/plain": [
       "DecisionTreeRegressor(max_depth=16, random_state=21, splitter='random')"
      ]
     },
     "execution_count": 186,
     "metadata": {},
     "output_type": "execute_result"
    }
   ],
   "source": [
    "model = DecisionTreeRegressor(splitter='random', max_depth=16, random_state=21)\n",
    "model.fit(X_train, y_train)"
   ]
  },
  {
   "cell_type": "code",
   "execution_count": 187,
   "metadata": {
    "ExecuteTime": {
     "end_time": "2021-03-04T12:53:56.316035Z",
     "start_time": "2021-03-04T12:53:55.815344Z"
    },
    "colab": {
     "base_uri": "https://localhost:8080/"
    },
    "id": "vahRc1F4DZwR",
    "outputId": "2bfa00b5-e0e9-4b0f-eec8-d4f463457c73"
   },
   "outputs": [
    {
     "name": "stdout",
     "output_type": "stream",
     "text": [
      "Train score is 0.16730025064221787.\n",
      "Test score is 0.1767855883288461.\n"
     ]
    }
   ],
   "source": [
    "train_preds = model.predict(X_train)\n",
    "preds = model.predict(X_test)\n",
    "\n",
    "print(f'Train score is {rmspe(y_train, train_preds)}.')\n",
    "print(f'Test score is {rmspe(y_test, preds)}.')"
   ]
  },
  {
   "cell_type": "code",
   "execution_count": 188,
   "metadata": {
    "ExecuteTime": {
     "end_time": "2021-03-04T12:54:26.815119Z",
     "start_time": "2021-03-04T12:53:56.337021Z"
    },
    "colab": {
     "base_uri": "https://localhost:8080/"
    },
    "id": "XZqlRSwWdmmY",
    "outputId": "63a0663f-7bc7-44cd-d760-fe9c7cbe4f78"
   },
   "outputs": [
    {
     "data": {
      "text/plain": [
       "DecisionTreeRegressor(max_depth=16, random_state=21, splitter='random')"
      ]
     },
     "execution_count": 188,
     "metadata": {},
     "output_type": "execute_result"
    }
   ],
   "source": [
    "model.fit(X_transformed, y)"
   ]
  },
  {
   "cell_type": "code",
   "execution_count": 189,
   "metadata": {
    "ExecuteTime": {
     "end_time": "2021-03-04T12:54:26.855094Z",
     "start_time": "2021-03-04T12:54:26.819116Z"
    },
    "colab": {
     "base_uri": "https://localhost:8080/"
    },
    "id": "mk22HBW79HoY",
    "outputId": "9da47b3a-9276-47ff-b6ad-e05fea07c776"
   },
   "outputs": [
    {
     "data": {
      "text/plain": [
       "array([ 4078.        ,  5277.28813559,  8767.38647343, ...,\n",
       "       11529.        ,  6025.        , 21911.11111111])"
      ]
     },
     "execution_count": 189,
     "metadata": {},
     "output_type": "execute_result"
    }
   ],
   "source": [
    "submit_preds = model.predict(x_submit)\n",
    "submit_preds"
   ]
  },
  {
   "cell_type": "code",
   "execution_count": 190,
   "metadata": {
    "ExecuteTime": {
     "end_time": "2021-03-04T12:54:51.899565Z",
     "start_time": "2021-03-04T12:54:26.964025Z"
    },
    "id": "vQ1GG_PH9NO6"
   },
   "outputs": [],
   "source": [
    "#Defining a new dataframe to contain the predictions according to the IDs.\n",
    "df_ypred = pd.DataFrame()\n",
    "df_ypred['Id'] = ids\n",
    "\n",
    "# Scale back the log of sales to sales.\n",
    "df_ypred['Sales'] = submit_preds * 0.983 # 0.983 is a correction factor.\n",
    "\n",
    "for i in range(len(df_ypred)):\n",
    "\n",
    "    id = df_ypred.iloc[i]['Id']\n",
    "    if id in closed_test_ids or b:\n",
    "        df_ypred.iloc[i]['Sales'] = 0\n",
    "    else:\n",
    "        continue\n",
    "\n",
    "#Sorting values according to ID\n",
    "df_ypred.sort_values('Id', inplace=True)\n",
    "df_ypred[['Id', 'Sales']].to_csv('rossmann_dt_selected_features.csv', index=False)"
   ]
  },
  {
   "cell_type": "code",
   "execution_count": 191,
   "metadata": {
    "ExecuteTime": {
     "end_time": "2021-03-04T12:54:51.908555Z",
     "start_time": "2021-03-04T12:54:51.903558Z"
    },
    "colab": {
     "base_uri": "https://localhost:8080/",
     "height": 167
    },
    "id": "dVNn3LLK99F9",
    "outputId": "a689fc97-b704-4999-f37a-95cbf25fa80d"
   },
   "outputs": [],
   "source": [
    "# Image('/content/drive/My Drive/Rossmann Sales Forecasting/dt selected features.png')"
   ]
  },
  {
   "cell_type": "markdown",
   "metadata": {
    "id": "GeR2WEteJQNL"
   },
   "source": [
    "## Random Forest model."
   ]
  },
  {
   "cell_type": "code",
   "execution_count": 192,
   "metadata": {
    "ExecuteTime": {
     "end_time": "2021-03-04T13:28:50.503061Z",
     "start_time": "2021-03-04T12:54:51.912554Z"
    },
    "colab": {
     "base_uri": "https://localhost:8080/"
    },
    "id": "1AKu9A-6FkOe",
    "outputId": "7f29ecfa-8049-4c79-a180-c768d55bde82"
   },
   "outputs": [
    {
     "data": {
      "text/plain": [
       "RandomForestRegressor(max_depth=17, n_estimators=300, n_jobs=-1,\n",
       "                      random_state=21)"
      ]
     },
     "execution_count": 192,
     "metadata": {},
     "output_type": "execute_result"
    }
   ],
   "source": [
    "from sklearn.ensemble import RandomForestRegressor\n",
    "model = RandomForestRegressor(n_estimators=300, max_depth=17, n_jobs=-1, random_state=21)\n",
    "model.fit(X_train, y_train)"
   ]
  },
  {
   "cell_type": "code",
   "execution_count": 193,
   "metadata": {
    "ExecuteTime": {
     "end_time": "2021-03-04T13:29:01.938965Z",
     "start_time": "2021-03-04T13:28:50.609994Z"
    },
    "colab": {
     "base_uri": "https://localhost:8080/"
    },
    "id": "PSCroKqyKOu5",
    "outputId": "42a14781-afeb-44eb-9b80-155dff1c7a61"
   },
   "outputs": [
    {
     "data": {
      "text/plain": [
       "0.1490379608684166"
      ]
     },
     "execution_count": 193,
     "metadata": {},
     "output_type": "execute_result"
    }
   ],
   "source": [
    "train_preds = model.predict(X_train)\n",
    "rmspe(y_train,train_preds)"
   ]
  },
  {
   "cell_type": "code",
   "execution_count": 194,
   "metadata": {
    "ExecuteTime": {
     "end_time": "2021-03-04T13:29:04.980078Z",
     "start_time": "2021-03-04T13:29:01.980942Z"
    },
    "colab": {
     "base_uri": "https://localhost:8080/"
    },
    "id": "HRZHcRZrKQya",
    "outputId": "cba9ea42-dd58-43d7-b8a9-801731434872"
   },
   "outputs": [
    {
     "data": {
      "text/plain": [
       "0.16421245580976074"
      ]
     },
     "execution_count": 194,
     "metadata": {},
     "output_type": "execute_result"
    }
   ],
   "source": [
    "preds = model.predict(X_test)\n",
    "rmspe(y_test, preds)"
   ]
  },
  {
   "cell_type": "code",
   "execution_count": 195,
   "metadata": {
    "ExecuteTime": {
     "end_time": "2021-03-04T14:13:49.147333Z",
     "start_time": "2021-03-04T13:29:05.009063Z"
    },
    "colab": {
     "base_uri": "https://localhost:8080/"
    },
    "id": "1nveyw7Qy3tB",
    "outputId": "02bf93b5-c943-4965-bb8f-23f7f5bc11f5"
   },
   "outputs": [
    {
     "data": {
      "text/plain": [
       "RandomForestRegressor(max_depth=17, n_estimators=300, n_jobs=-1,\n",
       "                      random_state=21)"
      ]
     },
     "execution_count": 195,
     "metadata": {},
     "output_type": "execute_result"
    }
   ],
   "source": [
    "model.fit(X_transformed, y)"
   ]
  },
  {
   "cell_type": "code",
   "execution_count": 196,
   "metadata": {
    "ExecuteTime": {
     "end_time": "2021-03-04T14:13:50.602450Z",
     "start_time": "2021-03-04T14:13:49.675028Z"
    },
    "id": "NlGafVqAFkLh"
   },
   "outputs": [],
   "source": [
    "# x_submit refers to the test.csv dataset\n",
    "preds = model.predict(x_submit)"
   ]
  },
  {
   "cell_type": "code",
   "execution_count": 197,
   "metadata": {
    "ExecuteTime": {
     "end_time": "2021-03-04T14:14:16.600100Z",
     "start_time": "2021-03-04T14:13:50.617441Z"
    }
   },
   "outputs": [
    {
     "data": {
      "text/plain": [
       "['./rf_model.pkl']"
      ]
     },
     "execution_count": 197,
     "metadata": {},
     "output_type": "execute_result"
    }
   ],
   "source": [
    "joblib.dump(model, './rf_model.pkl')"
   ]
  },
  {
   "cell_type": "code",
   "execution_count": 198,
   "metadata": {
    "ExecuteTime": {
     "end_time": "2021-03-04T14:14:41.655650Z",
     "start_time": "2021-03-04T14:14:16.604099Z"
    },
    "id": "-tY6j6UpFkIv"
   },
   "outputs": [],
   "source": [
    "#Defining a new dataframe to contain the predictions according to the IDs.\n",
    "df_ypred = pd.DataFrame()\n",
    "df_ypred['Id'] = ids\n",
    "\n",
    "# Scale back the log of sales to sales.\n",
    "df_ypred['Sales'] = preds  * 0.983 #Correction factor.\n",
    "\n",
    "for i in range(len(df_ypred)):\n",
    "\n",
    "    id = df_ypred.iloc[i]['Id']\n",
    "    if id in closed_test_ids or b:\n",
    "        df_ypred.iloc[i]['Sales'] = 0\n",
    "    else:\n",
    "        continue\n",
    "\n",
    "#Sorting values according to ID\n",
    "df_ypred.sort_values('Id', inplace=True)\n",
    "df_ypred[['Id', 'Sales']].to_csv('rossmann_RF_with correction.csv', index=False)"
   ]
  },
  {
   "cell_type": "code",
   "execution_count": 199,
   "metadata": {
    "ExecuteTime": {
     "end_time": "2021-03-04T14:14:41.956459Z",
     "start_time": "2021-03-04T14:14:41.951462Z"
    },
    "colab": {
     "base_uri": "https://localhost:8080/",
     "height": 167
    },
    "id": "Kp0bCU4MsXvk",
    "outputId": "570b3529-53c3-4273-b839-fef462b58508"
   },
   "outputs": [],
   "source": [
    "# Image('/content/drive/My Drive/Rossmann Sales Forecasting/rf model with selected features after correction.png')"
   ]
  },
  {
   "cell_type": "markdown",
   "metadata": {
    "id": "iaqxrGONJVID"
   },
   "source": [
    "## Light GBM model."
   ]
  },
  {
   "cell_type": "code",
   "execution_count": 200,
   "metadata": {
    "ExecuteTime": {
     "end_time": "2021-03-04T14:15:31.996975Z",
     "start_time": "2021-03-04T14:14:41.959457Z"
    },
    "id": "Yoa_4pQbJAwA"
   },
   "outputs": [
    {
     "name": "stdout",
     "output_type": "stream",
     "text": [
      "[LightGBM] [Warning] Unknown parameter: n_leaves\n"
     ]
    }
   ],
   "source": [
    "#Training with best parameters.\n",
    "base_lgb_model = lgb.LGBMRegressor(n_leaves=50,\n",
    "                               n_estimators=700, \n",
    "                               max_depth=-1,  \n",
    "                               learning_rate=0.3, #0.1\n",
    "                               subsample=1,\n",
    "                               colsample_bytree=0.8,\n",
    "                               reg_alpha=0.1,\n",
    "                               reg_lambda=1)\n",
    "\n",
    "base_lgb_model.fit(X_train, y_train)\n",
    "\n",
    "train_preds = base_lgb_model.predict(X_train)\n",
    "preds = base_lgb_model.predict(X_test)"
   ]
  },
  {
   "cell_type": "code",
   "execution_count": 201,
   "metadata": {
    "ExecuteTime": {
     "end_time": "2021-03-04T14:15:32.147880Z",
     "start_time": "2021-03-04T14:15:32.019959Z"
    },
    "colab": {
     "base_uri": "https://localhost:8080/"
    },
    "id": "6sd9bWDZxY6G",
    "outputId": "7ebeb42b-0030-4160-de75-51f0e50440f1"
   },
   "outputs": [
    {
     "name": "stdout",
     "output_type": "stream",
     "text": [
      "Metric score on train set is 0.16097754316847265.\n",
      "Metric score on test set is 0.15980312851370343.\n"
     ]
    }
   ],
   "source": [
    "print(f'Metric score on train set is {rmspe(y_train, train_preds)}.')\n",
    "print(f'Metric score on test set is {rmspe(y_test, preds)}.')"
   ]
  },
  {
   "cell_type": "code",
   "execution_count": 202,
   "metadata": {
    "ExecuteTime": {
     "end_time": "2021-03-04T14:16:10.040416Z",
     "start_time": "2021-03-04T14:15:32.152879Z"
    },
    "colab": {
     "base_uri": "https://localhost:8080/",
     "height": 136
    },
    "id": "B-GakWz2zyNq",
    "outputId": "58e6dd5d-8dde-4d46-fc28-07930463c902"
   },
   "outputs": [
    {
     "name": "stdout",
     "output_type": "stream",
     "text": [
      "[LightGBM] [Warning] Unknown parameter: n_leaves\n"
     ]
    },
    {
     "data": {
      "text/plain": [
       "LGBMRegressor(colsample_bytree=0.8, learning_rate=0.3, n_estimators=700,\n",
       "              n_leaves=50, reg_alpha=0.1, reg_lambda=1, subsample=1)"
      ]
     },
     "execution_count": 202,
     "metadata": {},
     "output_type": "execute_result"
    }
   ],
   "source": [
    "base_lgb_model.fit(X_transformed,y)"
   ]
  },
  {
   "cell_type": "code",
   "execution_count": 203,
   "metadata": {
    "ExecuteTime": {
     "end_time": "2021-03-04T14:16:11.850356Z",
     "start_time": "2021-03-04T14:16:10.175334Z"
    },
    "colab": {
     "base_uri": "https://localhost:8080/",
     "height": 34
    },
    "id": "LoEKgg5ZHU_S",
    "outputId": "bb10540f-0a6b-4abf-a219-43bce13164d1"
   },
   "outputs": [
    {
     "data": {
      "text/plain": [
       "['./lgb_model.pkl']"
      ]
     },
     "execution_count": 203,
     "metadata": {},
     "output_type": "execute_result"
    }
   ],
   "source": [
    "joblib.dump(base_lgb_model, './lgb_model.pkl')"
   ]
  },
  {
   "cell_type": "code",
   "execution_count": 204,
   "metadata": {
    "ExecuteTime": {
     "end_time": "2021-03-04T14:16:41.160581Z",
     "start_time": "2021-03-04T14:16:15.783336Z"
    },
    "id": "pKA4Jbz3JqhD"
   },
   "outputs": [],
   "source": [
    "preds = base_lgb_model.predict(x_submit)\n",
    "#Defining a new dataframe to contain the predictions according to the IDs.\n",
    "df_ypred = pd.DataFrame()\n",
    "df_ypred['Id'] = ids\n",
    "\n",
    "# Scale back the log of sales to sales.\n",
    "df_ypred['Sales'] = preds * 0.983 #Correction factor.\n",
    "\n",
    "for i in range(len(df_ypred)):\n",
    "\n",
    "    id = df_ypred.iloc[i]['Id']\n",
    "    if id in closed_test_ids or b:\n",
    "        df_ypred.iloc[i]['Sales'] = 0\n",
    "    else:\n",
    "        continue\n",
    "\n",
    "#Sorting values according to ID\n",
    "df_ypred.sort_values('Id', inplace=True)\n",
    "df_ypred[['Id', 'Sales']].to_csv('rossmann_lgb_selected_features.csv', index=False)"
   ]
  },
  {
   "cell_type": "code",
   "execution_count": 205,
   "metadata": {
    "ExecuteTime": {
     "end_time": "2021-03-04T14:16:41.182569Z",
     "start_time": "2021-03-04T14:16:41.176569Z"
    },
    "colab": {
     "base_uri": "https://localhost:8080/",
     "height": 167
    },
    "id": "aJCn3c8p0g6b",
    "outputId": "6ac49b7a-dc17-4852-c109-730eebfab414"
   },
   "outputs": [],
   "source": [
    "# Image('/content/drive/My Drive/Rossmann Sales Forecasting/lgb selected features..png')"
   ]
  },
  {
   "cell_type": "markdown",
   "metadata": {
    "id": "HLluEcFaeEJH"
   },
   "source": [
    "## Meta Learning."
   ]
  },
  {
   "cell_type": "markdown",
   "metadata": {
    "id": "NHZb7glCV_qP"
   },
   "source": [
    "1. Divide data into 80-20 split.\n",
    "\n",
    "2. Divide the train part into 2 parts, D1 and D2.\n",
    "\n",
    "3. Take 9 samples from D1 and train Decision tree(shallow, medium and deep), Random Forest(shallow, medium and deep) and LightGBM(shallow, medium and deep).\n",
    "\n",
    "4. Predict D2 from these 9 models. Use these 9 predictions as features and D2 y_original as output to train a new model.\n",
    "\n",
    "5. Now for the test set, predict it using 9 models and using 9 predictions as features pass it to meta model. Use prediction from meta model as final prediction."
   ]
  },
  {
   "cell_type": "code",
   "execution_count": 206,
   "metadata": {
    "ExecuteTime": {
     "end_time": "2021-03-04T14:16:43.619196Z",
     "start_time": "2021-03-04T14:16:41.211551Z"
    },
    "id": "vjF9JkiyKb5v"
   },
   "outputs": [],
   "source": [
    "#Splitting data into 80:20 ratio.\n",
    "split = int(len(base_df) * 0.8)\n",
    "\n",
    "dtrain = base_df[:split]\n",
    "dtest = base_df[split:]"
   ]
  },
  {
   "cell_type": "code",
   "execution_count": 207,
   "metadata": {
    "ExecuteTime": {
     "end_time": "2021-03-04T14:16:44.465689Z",
     "start_time": "2021-03-04T14:16:43.734123Z"
    },
    "id": "CGv3w9MlOsIQ"
   },
   "outputs": [],
   "source": [
    "def create_meta_model(n_estimators, dataset, fraction, preprocessor):\n",
    "    '''\n",
    "    This function will perform meta learning on the given dataset. It will return\n",
    "    a final meta model which can be used to predict for future values. \n",
    "    -----------------------------------------------------------------------------\n",
    "    n_estimators: No. of estimators to use while creating models on first half.\n",
    "\n",
    "    dataset: Dataset on which to perform meta learning.\n",
    "\n",
    "    fraction: Fraction of dataset to be used by the estimators.\n",
    "\n",
    "    preprocessor: Pipeline to preprocess data such that data can be fed into a model.\n",
    "    -----------------------------------------------------------------------------\n",
    "\n",
    "    Here Random forest model will be used as a estimator. It's parameters will be\n",
    "    chosen at random. \n",
    "    '''\n",
    "\n",
    "    #Splitting train data into 2 equal parts.\n",
    "    half = int(len(dataset) * 0.5)\n",
    "    d1 = dataset[:half]\n",
    "    d2 = dataset[half:]\n",
    "\n",
    "    #Preparing d2 dataset.\n",
    "    d2_x = d2.drop(['Sales'], axis=1)\n",
    "    d2_x = preprocessor.transform(d2_x)\n",
    "    d2_y = d2['Sales']\n",
    "\n",
    "    #List to store samples.\n",
    "    samples_list = []\n",
    "    for i in range(n_estimators):\n",
    "        new_sample = d1.sample(frac=fraction, random_state=21)\n",
    "        new_sample.sort_values(['Year','Day'], inplace=True)\n",
    "        samples_list.append(new_sample)\n",
    "    \n",
    "    #Dictionary to store predictions on d2 from every estimator.\n",
    "    data_dict = dict()\n",
    "    data_dict['output'] = d2_y\n",
    "\n",
    "    #List to store models.\n",
    "    models_list = []\n",
    "    for i in range(len(samples_list)):\n",
    "        #Preparing data to be fed into the model.\n",
    "        x = samples_list[i].drop(['Sales'], axis=1)\n",
    "        x = preprocessor.transform(x)\n",
    "        y = samples_list[i]['Sales']\n",
    "\n",
    "        model = RandomForestRegressor(n_estimators=200, max_depth=17, n_jobs=-1, random_state=21)\n",
    "        model.fit(x,y)\n",
    "\n",
    "        models_list.append(model)\n",
    "        pred = model.predict(d2_x)\n",
    "\n",
    "        #Adding prediction to data dictionary.\n",
    "        data_dict[i] = pred\n",
    "\n",
    "        print(f'{i+1} estimators done.')\n",
    "\n",
    "    #Creating dataframe using the data_dict.\n",
    "    meta_df = pd.DataFrame(data_dict)\n",
    "    meta_x = meta_df.drop('output', axis=1)\n",
    "    meta_y = meta_df['output']\n",
    "    \n",
    "    meta_model = RandomForestRegressor(n_jobs=-1, random_state=21, max_depth=20)\n",
    "    meta_model.fit(meta_x.values, meta_y)\n",
    "\n",
    "    return models_list, meta_model\n",
    "\n",
    "def predict(models_list, meta_model, dataset):\n",
    "    '''\n",
    "    This model will give predictions ussing meta_model.\n",
    "    ----------------------------------------------------\n",
    "    models_list: List containing all the models used during meta learning.\n",
    "\n",
    "    meta_model: Final model from meta learning.\n",
    "\n",
    "    dataset: Preprocessed dataset to be used for prediction.\n",
    "\n",
    "    preprocessor: Pipeline used during training to preprocess data.\n",
    "    '''\n",
    "    data_dict = dict()\n",
    "    for i in range(len(models_list)):\n",
    "        pred = models_list[i].predict(dataset)\n",
    "        data_dict[i] = pred\n",
    "\n",
    "    df = pd.DataFrame(data_dict)\n",
    "    x = df.values\n",
    "\n",
    "    preds = meta_model.predict(x)\n",
    "\n",
    "    return preds"
   ]
  },
  {
   "cell_type": "markdown",
   "metadata": {
    "id": "GRsWzoGE9eGq"
   },
   "source": [
    "### Stacking with 9 models."
   ]
  },
  {
   "cell_type": "code",
   "execution_count": 208,
   "metadata": {
    "ExecuteTime": {
     "end_time": "2021-03-04T15:01:21.719280Z",
     "start_time": "2021-03-04T14:16:44.469687Z"
    },
    "colab": {
     "base_uri": "https://localhost:8080/",
     "height": 170
    },
    "id": "tOuLXMDa9da0",
    "outputId": "a86a97d8-79fa-46bf-da5f-5d90f7bf4e31"
   },
   "outputs": [
    {
     "name": "stdout",
     "output_type": "stream",
     "text": [
      "1 estimators done.\n",
      "2 estimators done.\n",
      "3 estimators done.\n",
      "4 estimators done.\n",
      "5 estimators done.\n",
      "6 estimators done.\n",
      "7 estimators done.\n",
      "8 estimators done.\n",
      "9 estimators done.\n"
     ]
    },
    {
     "ename": "MemoryError",
     "evalue": "could not allocate 3670016 bytes",
     "output_type": "error",
     "traceback": [
      "\u001b[1;31m---------------------------------------------------------------------------\u001b[0m",
      "\u001b[1;31mMemoryError\u001b[0m                               Traceback (most recent call last)",
      "\u001b[1;32m<ipython-input-208-1a17bbf75bff>\u001b[0m in \u001b[0;36m<module>\u001b[1;34m\u001b[0m\n\u001b[1;32m----> 1\u001b[1;33m \u001b[0mmodels_list\u001b[0m\u001b[1;33m,\u001b[0m \u001b[0mmeta_model\u001b[0m \u001b[1;33m=\u001b[0m \u001b[0mcreate_meta_model\u001b[0m\u001b[1;33m(\u001b[0m\u001b[1;36m9\u001b[0m\u001b[1;33m,\u001b[0m \u001b[0mdtrain\u001b[0m\u001b[1;33m,\u001b[0m \u001b[1;36m0.5\u001b[0m\u001b[1;33m,\u001b[0m \u001b[0mpreprocessor\u001b[0m\u001b[1;33m=\u001b[0m\u001b[0mpreprocessor\u001b[0m\u001b[1;33m)\u001b[0m\u001b[1;33m\u001b[0m\u001b[1;33m\u001b[0m\u001b[0m\n\u001b[0m",
      "\u001b[1;32m<ipython-input-207-5538140669f1>\u001b[0m in \u001b[0;36mcreate_meta_model\u001b[1;34m(n_estimators, dataset, fraction, preprocessor)\u001b[0m\n\u001b[0;32m     63\u001b[0m \u001b[1;33m\u001b[0m\u001b[0m\n\u001b[0;32m     64\u001b[0m     \u001b[0mmeta_model\u001b[0m \u001b[1;33m=\u001b[0m \u001b[0mRandomForestRegressor\u001b[0m\u001b[1;33m(\u001b[0m\u001b[0mn_jobs\u001b[0m\u001b[1;33m=\u001b[0m\u001b[1;33m-\u001b[0m\u001b[1;36m1\u001b[0m\u001b[1;33m,\u001b[0m \u001b[0mrandom_state\u001b[0m\u001b[1;33m=\u001b[0m\u001b[1;36m21\u001b[0m\u001b[1;33m,\u001b[0m \u001b[0mmax_depth\u001b[0m\u001b[1;33m=\u001b[0m\u001b[1;36m20\u001b[0m\u001b[1;33m)\u001b[0m\u001b[1;33m\u001b[0m\u001b[1;33m\u001b[0m\u001b[0m\n\u001b[1;32m---> 65\u001b[1;33m     \u001b[0mmeta_model\u001b[0m\u001b[1;33m.\u001b[0m\u001b[0mfit\u001b[0m\u001b[1;33m(\u001b[0m\u001b[0mmeta_x\u001b[0m\u001b[1;33m.\u001b[0m\u001b[0mvalues\u001b[0m\u001b[1;33m,\u001b[0m \u001b[0mmeta_y\u001b[0m\u001b[1;33m)\u001b[0m\u001b[1;33m\u001b[0m\u001b[1;33m\u001b[0m\u001b[0m\n\u001b[0m\u001b[0;32m     66\u001b[0m \u001b[1;33m\u001b[0m\u001b[0m\n\u001b[0;32m     67\u001b[0m     \u001b[1;32mreturn\u001b[0m \u001b[0mmodels_list\u001b[0m\u001b[1;33m,\u001b[0m \u001b[0mmeta_model\u001b[0m\u001b[1;33m\u001b[0m\u001b[1;33m\u001b[0m\u001b[0m\n",
      "\u001b[1;32mC:\\System\\Study\\UoM\\Projects\\conda_environments\\stats_and_ml\\env\\lib\\site-packages\\sklearn\\ensemble\\_forest.py\u001b[0m in \u001b[0;36mfit\u001b[1;34m(self, X, y, sample_weight)\u001b[0m\n\u001b[0;32m    384\u001b[0m             \u001b[1;31m# parallel_backend contexts set at a higher level,\u001b[0m\u001b[1;33m\u001b[0m\u001b[1;33m\u001b[0m\u001b[1;33m\u001b[0m\u001b[0m\n\u001b[0;32m    385\u001b[0m             \u001b[1;31m# since correctness does not rely on using threads.\u001b[0m\u001b[1;33m\u001b[0m\u001b[1;33m\u001b[0m\u001b[1;33m\u001b[0m\u001b[0m\n\u001b[1;32m--> 386\u001b[1;33m             trees = Parallel(n_jobs=self.n_jobs, verbose=self.verbose,\n\u001b[0m\u001b[0;32m    387\u001b[0m                              \u001b[1;33m**\u001b[0m\u001b[0m_joblib_parallel_args\u001b[0m\u001b[1;33m(\u001b[0m\u001b[0mprefer\u001b[0m\u001b[1;33m=\u001b[0m\u001b[1;34m'threads'\u001b[0m\u001b[1;33m)\u001b[0m\u001b[1;33m)\u001b[0m\u001b[1;33m(\u001b[0m\u001b[1;33m\u001b[0m\u001b[1;33m\u001b[0m\u001b[0m\n\u001b[0;32m    388\u001b[0m                 delayed(_parallel_build_trees)(\n",
      "\u001b[1;32mC:\\System\\Study\\UoM\\Projects\\conda_environments\\stats_and_ml\\env\\lib\\site-packages\\joblib\\parallel.py\u001b[0m in \u001b[0;36m__call__\u001b[1;34m(self, iterable)\u001b[0m\n\u001b[0;32m   1052\u001b[0m \u001b[1;33m\u001b[0m\u001b[0m\n\u001b[0;32m   1053\u001b[0m             \u001b[1;32mwith\u001b[0m \u001b[0mself\u001b[0m\u001b[1;33m.\u001b[0m\u001b[0m_backend\u001b[0m\u001b[1;33m.\u001b[0m\u001b[0mretrieval_context\u001b[0m\u001b[1;33m(\u001b[0m\u001b[1;33m)\u001b[0m\u001b[1;33m:\u001b[0m\u001b[1;33m\u001b[0m\u001b[1;33m\u001b[0m\u001b[0m\n\u001b[1;32m-> 1054\u001b[1;33m                 \u001b[0mself\u001b[0m\u001b[1;33m.\u001b[0m\u001b[0mretrieve\u001b[0m\u001b[1;33m(\u001b[0m\u001b[1;33m)\u001b[0m\u001b[1;33m\u001b[0m\u001b[1;33m\u001b[0m\u001b[0m\n\u001b[0m\u001b[0;32m   1055\u001b[0m             \u001b[1;31m# Make sure that we get a last message telling us we are done\u001b[0m\u001b[1;33m\u001b[0m\u001b[1;33m\u001b[0m\u001b[1;33m\u001b[0m\u001b[0m\n\u001b[0;32m   1056\u001b[0m             \u001b[0melapsed_time\u001b[0m \u001b[1;33m=\u001b[0m \u001b[0mtime\u001b[0m\u001b[1;33m.\u001b[0m\u001b[0mtime\u001b[0m\u001b[1;33m(\u001b[0m\u001b[1;33m)\u001b[0m \u001b[1;33m-\u001b[0m \u001b[0mself\u001b[0m\u001b[1;33m.\u001b[0m\u001b[0m_start_time\u001b[0m\u001b[1;33m\u001b[0m\u001b[1;33m\u001b[0m\u001b[0m\n",
      "\u001b[1;32mC:\\System\\Study\\UoM\\Projects\\conda_environments\\stats_and_ml\\env\\lib\\site-packages\\joblib\\parallel.py\u001b[0m in \u001b[0;36mretrieve\u001b[1;34m(self)\u001b[0m\n\u001b[0;32m    931\u001b[0m             \u001b[1;32mtry\u001b[0m\u001b[1;33m:\u001b[0m\u001b[1;33m\u001b[0m\u001b[1;33m\u001b[0m\u001b[0m\n\u001b[0;32m    932\u001b[0m                 \u001b[1;32mif\u001b[0m \u001b[0mgetattr\u001b[0m\u001b[1;33m(\u001b[0m\u001b[0mself\u001b[0m\u001b[1;33m.\u001b[0m\u001b[0m_backend\u001b[0m\u001b[1;33m,\u001b[0m \u001b[1;34m'supports_timeout'\u001b[0m\u001b[1;33m,\u001b[0m \u001b[1;32mFalse\u001b[0m\u001b[1;33m)\u001b[0m\u001b[1;33m:\u001b[0m\u001b[1;33m\u001b[0m\u001b[1;33m\u001b[0m\u001b[0m\n\u001b[1;32m--> 933\u001b[1;33m                     \u001b[0mself\u001b[0m\u001b[1;33m.\u001b[0m\u001b[0m_output\u001b[0m\u001b[1;33m.\u001b[0m\u001b[0mextend\u001b[0m\u001b[1;33m(\u001b[0m\u001b[0mjob\u001b[0m\u001b[1;33m.\u001b[0m\u001b[0mget\u001b[0m\u001b[1;33m(\u001b[0m\u001b[0mtimeout\u001b[0m\u001b[1;33m=\u001b[0m\u001b[0mself\u001b[0m\u001b[1;33m.\u001b[0m\u001b[0mtimeout\u001b[0m\u001b[1;33m)\u001b[0m\u001b[1;33m)\u001b[0m\u001b[1;33m\u001b[0m\u001b[1;33m\u001b[0m\u001b[0m\n\u001b[0m\u001b[0;32m    934\u001b[0m                 \u001b[1;32melse\u001b[0m\u001b[1;33m:\u001b[0m\u001b[1;33m\u001b[0m\u001b[1;33m\u001b[0m\u001b[0m\n\u001b[0;32m    935\u001b[0m                     \u001b[0mself\u001b[0m\u001b[1;33m.\u001b[0m\u001b[0m_output\u001b[0m\u001b[1;33m.\u001b[0m\u001b[0mextend\u001b[0m\u001b[1;33m(\u001b[0m\u001b[0mjob\u001b[0m\u001b[1;33m.\u001b[0m\u001b[0mget\u001b[0m\u001b[1;33m(\u001b[0m\u001b[1;33m)\u001b[0m\u001b[1;33m)\u001b[0m\u001b[1;33m\u001b[0m\u001b[1;33m\u001b[0m\u001b[0m\n",
      "\u001b[1;32mC:\\System\\Study\\UoM\\Projects\\conda_environments\\stats_and_ml\\env\\lib\\multiprocessing\\pool.py\u001b[0m in \u001b[0;36mget\u001b[1;34m(self, timeout)\u001b[0m\n\u001b[0;32m    769\u001b[0m             \u001b[1;32mreturn\u001b[0m \u001b[0mself\u001b[0m\u001b[1;33m.\u001b[0m\u001b[0m_value\u001b[0m\u001b[1;33m\u001b[0m\u001b[1;33m\u001b[0m\u001b[0m\n\u001b[0;32m    770\u001b[0m         \u001b[1;32melse\u001b[0m\u001b[1;33m:\u001b[0m\u001b[1;33m\u001b[0m\u001b[1;33m\u001b[0m\u001b[0m\n\u001b[1;32m--> 771\u001b[1;33m             \u001b[1;32mraise\u001b[0m \u001b[0mself\u001b[0m\u001b[1;33m.\u001b[0m\u001b[0m_value\u001b[0m\u001b[1;33m\u001b[0m\u001b[1;33m\u001b[0m\u001b[0m\n\u001b[0m\u001b[0;32m    772\u001b[0m \u001b[1;33m\u001b[0m\u001b[0m\n\u001b[0;32m    773\u001b[0m     \u001b[1;32mdef\u001b[0m \u001b[0m_set\u001b[0m\u001b[1;33m(\u001b[0m\u001b[0mself\u001b[0m\u001b[1;33m,\u001b[0m \u001b[0mi\u001b[0m\u001b[1;33m,\u001b[0m \u001b[0mobj\u001b[0m\u001b[1;33m)\u001b[0m\u001b[1;33m:\u001b[0m\u001b[1;33m\u001b[0m\u001b[1;33m\u001b[0m\u001b[0m\n",
      "\u001b[1;32mC:\\System\\Study\\UoM\\Projects\\conda_environments\\stats_and_ml\\env\\lib\\multiprocessing\\pool.py\u001b[0m in \u001b[0;36mworker\u001b[1;34m(inqueue, outqueue, initializer, initargs, maxtasks, wrap_exception)\u001b[0m\n\u001b[0;32m    123\u001b[0m         \u001b[0mjob\u001b[0m\u001b[1;33m,\u001b[0m \u001b[0mi\u001b[0m\u001b[1;33m,\u001b[0m \u001b[0mfunc\u001b[0m\u001b[1;33m,\u001b[0m \u001b[0margs\u001b[0m\u001b[1;33m,\u001b[0m \u001b[0mkwds\u001b[0m \u001b[1;33m=\u001b[0m \u001b[0mtask\u001b[0m\u001b[1;33m\u001b[0m\u001b[1;33m\u001b[0m\u001b[0m\n\u001b[0;32m    124\u001b[0m         \u001b[1;32mtry\u001b[0m\u001b[1;33m:\u001b[0m\u001b[1;33m\u001b[0m\u001b[1;33m\u001b[0m\u001b[0m\n\u001b[1;32m--> 125\u001b[1;33m             \u001b[0mresult\u001b[0m \u001b[1;33m=\u001b[0m \u001b[1;33m(\u001b[0m\u001b[1;32mTrue\u001b[0m\u001b[1;33m,\u001b[0m \u001b[0mfunc\u001b[0m\u001b[1;33m(\u001b[0m\u001b[1;33m*\u001b[0m\u001b[0margs\u001b[0m\u001b[1;33m,\u001b[0m \u001b[1;33m**\u001b[0m\u001b[0mkwds\u001b[0m\u001b[1;33m)\u001b[0m\u001b[1;33m)\u001b[0m\u001b[1;33m\u001b[0m\u001b[1;33m\u001b[0m\u001b[0m\n\u001b[0m\u001b[0;32m    126\u001b[0m         \u001b[1;32mexcept\u001b[0m \u001b[0mException\u001b[0m \u001b[1;32mas\u001b[0m \u001b[0me\u001b[0m\u001b[1;33m:\u001b[0m\u001b[1;33m\u001b[0m\u001b[1;33m\u001b[0m\u001b[0m\n\u001b[0;32m    127\u001b[0m             \u001b[1;32mif\u001b[0m \u001b[0mwrap_exception\u001b[0m \u001b[1;32mand\u001b[0m \u001b[0mfunc\u001b[0m \u001b[1;32mis\u001b[0m \u001b[1;32mnot\u001b[0m \u001b[0m_helper_reraises_exception\u001b[0m\u001b[1;33m:\u001b[0m\u001b[1;33m\u001b[0m\u001b[1;33m\u001b[0m\u001b[0m\n",
      "\u001b[1;32mC:\\System\\Study\\UoM\\Projects\\conda_environments\\stats_and_ml\\env\\lib\\site-packages\\joblib\\_parallel_backends.py\u001b[0m in \u001b[0;36m__call__\u001b[1;34m(self, *args, **kwargs)\u001b[0m\n\u001b[0;32m    593\u001b[0m     \u001b[1;32mdef\u001b[0m \u001b[0m__call__\u001b[0m\u001b[1;33m(\u001b[0m\u001b[0mself\u001b[0m\u001b[1;33m,\u001b[0m \u001b[1;33m*\u001b[0m\u001b[0margs\u001b[0m\u001b[1;33m,\u001b[0m \u001b[1;33m**\u001b[0m\u001b[0mkwargs\u001b[0m\u001b[1;33m)\u001b[0m\u001b[1;33m:\u001b[0m\u001b[1;33m\u001b[0m\u001b[1;33m\u001b[0m\u001b[0m\n\u001b[0;32m    594\u001b[0m         \u001b[1;32mtry\u001b[0m\u001b[1;33m:\u001b[0m\u001b[1;33m\u001b[0m\u001b[1;33m\u001b[0m\u001b[0m\n\u001b[1;32m--> 595\u001b[1;33m             \u001b[1;32mreturn\u001b[0m \u001b[0mself\u001b[0m\u001b[1;33m.\u001b[0m\u001b[0mfunc\u001b[0m\u001b[1;33m(\u001b[0m\u001b[1;33m*\u001b[0m\u001b[0margs\u001b[0m\u001b[1;33m,\u001b[0m \u001b[1;33m**\u001b[0m\u001b[0mkwargs\u001b[0m\u001b[1;33m)\u001b[0m\u001b[1;33m\u001b[0m\u001b[1;33m\u001b[0m\u001b[0m\n\u001b[0m\u001b[0;32m    596\u001b[0m         \u001b[1;32mexcept\u001b[0m \u001b[0mKeyboardInterrupt\u001b[0m \u001b[1;32mas\u001b[0m \u001b[0me\u001b[0m\u001b[1;33m:\u001b[0m\u001b[1;33m\u001b[0m\u001b[1;33m\u001b[0m\u001b[0m\n\u001b[0;32m    597\u001b[0m             \u001b[1;31m# We capture the KeyboardInterrupt and reraise it as\u001b[0m\u001b[1;33m\u001b[0m\u001b[1;33m\u001b[0m\u001b[1;33m\u001b[0m\u001b[0m\n",
      "\u001b[1;32mC:\\System\\Study\\UoM\\Projects\\conda_environments\\stats_and_ml\\env\\lib\\site-packages\\joblib\\parallel.py\u001b[0m in \u001b[0;36m__call__\u001b[1;34m(self)\u001b[0m\n\u001b[0;32m    260\u001b[0m         \u001b[1;31m# change the default number of processes to -1\u001b[0m\u001b[1;33m\u001b[0m\u001b[1;33m\u001b[0m\u001b[1;33m\u001b[0m\u001b[0m\n\u001b[0;32m    261\u001b[0m         \u001b[1;32mwith\u001b[0m \u001b[0mparallel_backend\u001b[0m\u001b[1;33m(\u001b[0m\u001b[0mself\u001b[0m\u001b[1;33m.\u001b[0m\u001b[0m_backend\u001b[0m\u001b[1;33m,\u001b[0m \u001b[0mn_jobs\u001b[0m\u001b[1;33m=\u001b[0m\u001b[0mself\u001b[0m\u001b[1;33m.\u001b[0m\u001b[0m_n_jobs\u001b[0m\u001b[1;33m)\u001b[0m\u001b[1;33m:\u001b[0m\u001b[1;33m\u001b[0m\u001b[1;33m\u001b[0m\u001b[0m\n\u001b[1;32m--> 262\u001b[1;33m             return [func(*args, **kwargs)\n\u001b[0m\u001b[0;32m    263\u001b[0m                     for func, args, kwargs in self.items]\n\u001b[0;32m    264\u001b[0m \u001b[1;33m\u001b[0m\u001b[0m\n",
      "\u001b[1;32mC:\\System\\Study\\UoM\\Projects\\conda_environments\\stats_and_ml\\env\\lib\\site-packages\\joblib\\parallel.py\u001b[0m in \u001b[0;36m<listcomp>\u001b[1;34m(.0)\u001b[0m\n\u001b[0;32m    260\u001b[0m         \u001b[1;31m# change the default number of processes to -1\u001b[0m\u001b[1;33m\u001b[0m\u001b[1;33m\u001b[0m\u001b[1;33m\u001b[0m\u001b[0m\n\u001b[0;32m    261\u001b[0m         \u001b[1;32mwith\u001b[0m \u001b[0mparallel_backend\u001b[0m\u001b[1;33m(\u001b[0m\u001b[0mself\u001b[0m\u001b[1;33m.\u001b[0m\u001b[0m_backend\u001b[0m\u001b[1;33m,\u001b[0m \u001b[0mn_jobs\u001b[0m\u001b[1;33m=\u001b[0m\u001b[0mself\u001b[0m\u001b[1;33m.\u001b[0m\u001b[0m_n_jobs\u001b[0m\u001b[1;33m)\u001b[0m\u001b[1;33m:\u001b[0m\u001b[1;33m\u001b[0m\u001b[1;33m\u001b[0m\u001b[0m\n\u001b[1;32m--> 262\u001b[1;33m             return [func(*args, **kwargs)\n\u001b[0m\u001b[0;32m    263\u001b[0m                     for func, args, kwargs in self.items]\n\u001b[0;32m    264\u001b[0m \u001b[1;33m\u001b[0m\u001b[0m\n",
      "\u001b[1;32mC:\\System\\Study\\UoM\\Projects\\conda_environments\\stats_and_ml\\env\\lib\\site-packages\\sklearn\\ensemble\\_forest.py\u001b[0m in \u001b[0;36m_parallel_build_trees\u001b[1;34m(tree, forest, X, y, sample_weight, tree_idx, n_trees, verbose, class_weight, n_samples_bootstrap)\u001b[0m\n\u001b[0;32m    166\u001b[0m                                                         indices=indices)\n\u001b[0;32m    167\u001b[0m \u001b[1;33m\u001b[0m\u001b[0m\n\u001b[1;32m--> 168\u001b[1;33m         \u001b[0mtree\u001b[0m\u001b[1;33m.\u001b[0m\u001b[0mfit\u001b[0m\u001b[1;33m(\u001b[0m\u001b[0mX\u001b[0m\u001b[1;33m,\u001b[0m \u001b[0my\u001b[0m\u001b[1;33m,\u001b[0m \u001b[0msample_weight\u001b[0m\u001b[1;33m=\u001b[0m\u001b[0mcurr_sample_weight\u001b[0m\u001b[1;33m,\u001b[0m \u001b[0mcheck_input\u001b[0m\u001b[1;33m=\u001b[0m\u001b[1;32mFalse\u001b[0m\u001b[1;33m)\u001b[0m\u001b[1;33m\u001b[0m\u001b[1;33m\u001b[0m\u001b[0m\n\u001b[0m\u001b[0;32m    169\u001b[0m     \u001b[1;32melse\u001b[0m\u001b[1;33m:\u001b[0m\u001b[1;33m\u001b[0m\u001b[1;33m\u001b[0m\u001b[0m\n\u001b[0;32m    170\u001b[0m         \u001b[0mtree\u001b[0m\u001b[1;33m.\u001b[0m\u001b[0mfit\u001b[0m\u001b[1;33m(\u001b[0m\u001b[0mX\u001b[0m\u001b[1;33m,\u001b[0m \u001b[0my\u001b[0m\u001b[1;33m,\u001b[0m \u001b[0msample_weight\u001b[0m\u001b[1;33m=\u001b[0m\u001b[0msample_weight\u001b[0m\u001b[1;33m,\u001b[0m \u001b[0mcheck_input\u001b[0m\u001b[1;33m=\u001b[0m\u001b[1;32mFalse\u001b[0m\u001b[1;33m)\u001b[0m\u001b[1;33m\u001b[0m\u001b[1;33m\u001b[0m\u001b[0m\n",
      "\u001b[1;32mC:\\System\\Study\\UoM\\Projects\\conda_environments\\stats_and_ml\\env\\lib\\site-packages\\sklearn\\tree\\_classes.py\u001b[0m in \u001b[0;36mfit\u001b[1;34m(self, X, y, sample_weight, check_input, X_idx_sorted)\u001b[0m\n\u001b[0;32m   1240\u001b[0m         \"\"\"\n\u001b[0;32m   1241\u001b[0m \u001b[1;33m\u001b[0m\u001b[0m\n\u001b[1;32m-> 1242\u001b[1;33m         super().fit(\n\u001b[0m\u001b[0;32m   1243\u001b[0m             \u001b[0mX\u001b[0m\u001b[1;33m,\u001b[0m \u001b[0my\u001b[0m\u001b[1;33m,\u001b[0m\u001b[1;33m\u001b[0m\u001b[1;33m\u001b[0m\u001b[0m\n\u001b[0;32m   1244\u001b[0m             \u001b[0msample_weight\u001b[0m\u001b[1;33m=\u001b[0m\u001b[0msample_weight\u001b[0m\u001b[1;33m,\u001b[0m\u001b[1;33m\u001b[0m\u001b[1;33m\u001b[0m\u001b[0m\n",
      "\u001b[1;32mC:\\System\\Study\\UoM\\Projects\\conda_environments\\stats_and_ml\\env\\lib\\site-packages\\sklearn\\tree\\_classes.py\u001b[0m in \u001b[0;36mfit\u001b[1;34m(self, X, y, sample_weight, check_input, X_idx_sorted)\u001b[0m\n\u001b[0;32m    373\u001b[0m                                            min_impurity_split)\n\u001b[0;32m    374\u001b[0m \u001b[1;33m\u001b[0m\u001b[0m\n\u001b[1;32m--> 375\u001b[1;33m         \u001b[0mbuilder\u001b[0m\u001b[1;33m.\u001b[0m\u001b[0mbuild\u001b[0m\u001b[1;33m(\u001b[0m\u001b[0mself\u001b[0m\u001b[1;33m.\u001b[0m\u001b[0mtree_\u001b[0m\u001b[1;33m,\u001b[0m \u001b[0mX\u001b[0m\u001b[1;33m,\u001b[0m \u001b[0my\u001b[0m\u001b[1;33m,\u001b[0m \u001b[0msample_weight\u001b[0m\u001b[1;33m,\u001b[0m \u001b[0mX_idx_sorted\u001b[0m\u001b[1;33m)\u001b[0m\u001b[1;33m\u001b[0m\u001b[1;33m\u001b[0m\u001b[0m\n\u001b[0m\u001b[0;32m    376\u001b[0m \u001b[1;33m\u001b[0m\u001b[0m\n\u001b[0;32m    377\u001b[0m         \u001b[1;32mif\u001b[0m \u001b[0mself\u001b[0m\u001b[1;33m.\u001b[0m\u001b[0mn_outputs_\u001b[0m \u001b[1;33m==\u001b[0m \u001b[1;36m1\u001b[0m \u001b[1;32mand\u001b[0m \u001b[0mis_classifier\u001b[0m\u001b[1;33m(\u001b[0m\u001b[0mself\u001b[0m\u001b[1;33m)\u001b[0m\u001b[1;33m:\u001b[0m\u001b[1;33m\u001b[0m\u001b[1;33m\u001b[0m\u001b[0m\n",
      "\u001b[1;32msklearn\\tree\\_tree.pyx\u001b[0m in \u001b[0;36msklearn.tree._tree.DepthFirstTreeBuilder.build\u001b[1;34m()\u001b[0m\n",
      "\u001b[1;32msklearn\\tree\\_tree.pyx\u001b[0m in \u001b[0;36msklearn.tree._tree.DepthFirstTreeBuilder.build\u001b[1;34m()\u001b[0m\n",
      "\u001b[1;32msklearn\\tree\\_tree.pyx\u001b[0m in \u001b[0;36msklearn.tree._tree.Tree._add_node\u001b[1;34m()\u001b[0m\n",
      "\u001b[1;32msklearn\\tree\\_tree.pyx\u001b[0m in \u001b[0;36msklearn.tree._tree.Tree._resize_c\u001b[1;34m()\u001b[0m\n",
      "\u001b[1;32msklearn\\tree\\_utils.pyx\u001b[0m in \u001b[0;36msklearn.tree._utils.safe_realloc\u001b[1;34m()\u001b[0m\n",
      "\u001b[1;31mMemoryError\u001b[0m: could not allocate 3670016 bytes"
     ]
    }
   ],
   "source": [
    "models_list, meta_model = create_meta_model(9, dtrain, 0.5, preprocessor=preprocessor)"
   ]
  },
  {
   "cell_type": "code",
   "execution_count": null,
   "metadata": {
    "ExecuteTime": {
     "end_time": "2021-03-04T15:01:22.905835Z",
     "start_time": "2021-03-04T11:51:10.608Z"
    },
    "colab": {
     "base_uri": "https://localhost:8080/",
     "height": 51
    },
    "id": "0ZMzdfvDKjpD",
    "outputId": "4fb5e01c-78a6-4466-c362-a9751f8baf93"
   },
   "outputs": [],
   "source": [
    "x_train = preprocessor.transform(dtrain.drop('Sales', axis=1))\n",
    "y_train = dtrain['Sales'] \n",
    "\n",
    "x_test = preprocessor.transform(dtest.drop('Sales', axis=1))\n",
    "y_test = dtest['Sales']\n",
    "\n",
    "preds = predict(models_list=models_list, meta_model=meta_model, dataset=x_test)\n",
    "train_preds = predict(models_list=models_list, meta_model=meta_model, dataset=x_train)\n",
    "\n",
    "\n",
    "print(f'Train rmspe is {rmspe(y_train, train_preds)}.')\n",
    "print(f'Test rmspe is {rmspe(y_test, preds)}.')"
   ]
  },
  {
   "cell_type": "code",
   "execution_count": null,
   "metadata": {
    "ExecuteTime": {
     "end_time": "2021-03-04T15:01:23.056742Z",
     "start_time": "2021-03-04T11:51:10.611Z"
    },
    "id": "qhBqB7RrIzE5"
   },
   "outputs": [],
   "source": [
    "x_submit = preprocessor.transform(base_submit)"
   ]
  },
  {
   "cell_type": "code",
   "execution_count": null,
   "metadata": {
    "ExecuteTime": {
     "end_time": "2021-03-04T15:01:23.152691Z",
     "start_time": "2021-03-04T11:51:10.616Z"
    },
    "id": "LJF6PBZdO4hp"
   },
   "outputs": [],
   "source": [
    "submit_preds = predict(models_list=models_list, meta_model=meta_model, dataset=x_submit)\n",
    "\n",
    "# Defining a new dataframe to contain the predictions according to the IDs.\n",
    "df_ypred = pd.DataFrame()\n",
    "df_ypred['Id'] = ids\n",
    "\n",
    "# Scale back the log of sales to sales.\n",
    "df_ypred['Sales'] = submit_preds * 0.983\n",
    "\n",
    "for i in range(len(df_ypred)):\n",
    "\n",
    "    id = df_ypred.iloc[i]['Id']\n",
    "    if id in closed_test_ids:\n",
    "        df_ypred.iloc[i]['Sales'] = 0\n",
    "    else:\n",
    "        continue\n",
    "\n",
    "#Sorting values according to ID\n",
    "df_ypred.sort_values('Id', inplace=True)\n",
    "\n",
    "#Saving the result as a CSV file.\n",
    "df_ypred[['Id', 'Sales']].to_csv('rossmann_stacked_9_selected_features.csv', index=False)"
   ]
  },
  {
   "cell_type": "code",
   "execution_count": null,
   "metadata": {
    "ExecuteTime": {
     "end_time": "2021-03-04T15:01:23.263615Z",
     "start_time": "2021-03-04T11:51:10.619Z"
    },
    "colab": {
     "base_uri": "https://localhost:8080/",
     "height": 168
    },
    "id": "BMiCLwh98Si5",
    "outputId": "ee377da0-f5cb-46e9-f0db-d678c7b8c989",
    "scrolled": true
   },
   "outputs": [],
   "source": [
    "# Image('/content/drive/My Drive/Rossmann Sales Forecasting/stacked 9 model scores..png')"
   ]
  },
  {
   "cell_type": "markdown",
   "metadata": {
    "id": "MKo0EL7hmYs4"
   },
   "source": [
    "#Conclusions:\n",
    "\n",
    "|Model | rmspe on test set | Kaggle private score|\n",
    "|------|---------------------|--------------------|\n",
    "|SGD Regressor|0.250|0.234\n",
    "|Decision Tree Regressor|0.1767|0.16442\n",
    "|Random Forest Regressor|0.164|0.139\n",
    "|Light GBM Regressor|0.157|0.121\n",
    "|Stacking with 9 models|0.1988|0.17375"
   ]
  },
  {
   "cell_type": "code",
   "execution_count": null,
   "metadata": {
    "id": "n5nwYE4zOiC-"
   },
   "outputs": [],
   "source": []
  }
 ],
 "metadata": {
  "colab": {
   "collapsed_sections": [],
   "name": "Rossmann using base model and everything.ipynb",
   "provenance": []
  },
  "kernelspec": {
   "display_name": "Python 3",
   "language": "python",
   "name": "python3"
  },
  "language_info": {
   "codemirror_mode": {
    "name": "ipython",
    "version": 3
   },
   "file_extension": ".py",
   "mimetype": "text/x-python",
   "name": "python",
   "nbconvert_exporter": "python",
   "pygments_lexer": "ipython3",
   "version": "3.8.5"
  },
  "toc": {
   "base_numbering": 1,
   "nav_menu": {},
   "number_sections": true,
   "sideBar": true,
   "skip_h1_title": false,
   "title_cell": "Table of Contents",
   "title_sidebar": "Contents",
   "toc_cell": false,
   "toc_position": {
    "height": "calc(100% - 180px)",
    "left": "10px",
    "top": "150px",
    "width": "276px"
   },
   "toc_section_display": true,
   "toc_window_display": true
  },
  "varInspector": {
   "cols": {
    "lenName": 16,
    "lenType": 16,
    "lenVar": 40
   },
   "kernels_config": {
    "python": {
     "delete_cmd_postfix": "",
     "delete_cmd_prefix": "del ",
     "library": "var_list.py",
     "varRefreshCmd": "print(var_dic_list())"
    },
    "r": {
     "delete_cmd_postfix": ") ",
     "delete_cmd_prefix": "rm(",
     "library": "var_list.r",
     "varRefreshCmd": "cat(var_dic_list()) "
    }
   },
   "types_to_exclude": [
    "module",
    "function",
    "builtin_function_or_method",
    "instance",
    "_Feature"
   ],
   "window_display": false
  }
 },
 "nbformat": 4,
 "nbformat_minor": 1
}
